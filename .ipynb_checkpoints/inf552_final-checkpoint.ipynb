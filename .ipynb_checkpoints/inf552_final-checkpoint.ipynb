{
 "cells": [
  {
   "cell_type": "code",
   "execution_count": 1,
   "metadata": {},
   "outputs": [],
   "source": [
    "import pandas as pd\n",
    "import numpy as np\n",
    "import seaborn as sns\n",
    "import matplotlib.pyplot as plt\n",
    "import project\n",
    "from project import project_framework as pf\n",
    "from project import replace_with_nan\n",
    "from project import fill_with_num\n",
    "from project import fillAnimalFurniture"
   ]
  },
  {
   "cell_type": "markdown",
   "metadata": {},
   "source": [
    "### Import data"
   ]
  },
  {
   "cell_type": "code",
   "execution_count": 2,
   "metadata": {},
   "outputs": [],
   "source": [
    "df_ori = pd.read_csv(\"data/houses_to_rent_v2.csv\")"
   ]
  },
  {
   "cell_type": "code",
   "execution_count": 4,
   "metadata": {},
   "outputs": [
    {
     "data": {
      "text/html": [
       "<div>\n",
       "<style scoped>\n",
       "    .dataframe tbody tr th:only-of-type {\n",
       "        vertical-align: middle;\n",
       "    }\n",
       "\n",
       "    .dataframe tbody tr th {\n",
       "        vertical-align: top;\n",
       "    }\n",
       "\n",
       "    .dataframe thead th {\n",
       "        text-align: right;\n",
       "    }\n",
       "</style>\n",
       "<table border=\"1\" class=\"dataframe\">\n",
       "  <thead>\n",
       "    <tr style=\"text-align: right;\">\n",
       "      <th></th>\n",
       "      <th>area</th>\n",
       "      <th>rooms</th>\n",
       "      <th>bathroom</th>\n",
       "      <th>parking spaces</th>\n",
       "      <th>floor</th>\n",
       "      <th>animal</th>\n",
       "      <th>furniture</th>\n",
       "      <th>hoa (R$)</th>\n",
       "      <th>rent amount (R$)</th>\n",
       "      <th>property tax (R$)</th>\n",
       "      <th>fire insurance (R$)</th>\n",
       "      <th>total (R$)</th>\n",
       "      <th>Campinas</th>\n",
       "      <th>Porto Alegre</th>\n",
       "      <th>Rio de Janeiro</th>\n",
       "      <th>São Paulo</th>\n",
       "    </tr>\n",
       "  </thead>\n",
       "  <tbody>\n",
       "    <tr>\n",
       "      <th>count</th>\n",
       "      <td>10597.000000</td>\n",
       "      <td>10597.000000</td>\n",
       "      <td>10597.000000</td>\n",
       "      <td>10597.000000</td>\n",
       "      <td>10597.000000</td>\n",
       "      <td>10597.000000</td>\n",
       "      <td>10597.000000</td>\n",
       "      <td>10597.000000</td>\n",
       "      <td>10597.000000</td>\n",
       "      <td>10597.000000</td>\n",
       "      <td>10597.000000</td>\n",
       "      <td>10597.000000</td>\n",
       "      <td>10597.000000</td>\n",
       "      <td>10597.000000</td>\n",
       "      <td>10597.000000</td>\n",
       "      <td>10597.000000</td>\n",
       "    </tr>\n",
       "    <tr>\n",
       "      <th>mean</th>\n",
       "      <td>146.265736</td>\n",
       "      <td>2.505804</td>\n",
       "      <td>2.234028</td>\n",
       "      <td>1.605737</td>\n",
       "      <td>6.559549</td>\n",
       "      <td>0.777767</td>\n",
       "      <td>0.244503</td>\n",
       "      <td>6.713875</td>\n",
       "      <td>7.948556</td>\n",
       "      <td>5.083434</td>\n",
       "      <td>3.680838</td>\n",
       "      <td>8.240326</td>\n",
       "      <td>0.080211</td>\n",
       "      <td>0.111635</td>\n",
       "      <td>0.140417</td>\n",
       "      <td>0.550344</td>\n",
       "    </tr>\n",
       "    <tr>\n",
       "      <th>std</th>\n",
       "      <td>483.589448</td>\n",
       "      <td>1.168629</td>\n",
       "      <td>1.402137</td>\n",
       "      <td>1.579251</td>\n",
       "      <td>4.601180</td>\n",
       "      <td>0.415766</td>\n",
       "      <td>0.429813</td>\n",
       "      <td>0.846858</td>\n",
       "      <td>0.788485</td>\n",
       "      <td>1.261190</td>\n",
       "      <td>0.774547</td>\n",
       "      <td>0.788295</td>\n",
       "      <td>0.271633</td>\n",
       "      <td>0.314932</td>\n",
       "      <td>0.347436</td>\n",
       "      <td>0.497482</td>\n",
       "    </tr>\n",
       "    <tr>\n",
       "      <th>min</th>\n",
       "      <td>11.000000</td>\n",
       "      <td>1.000000</td>\n",
       "      <td>1.000000</td>\n",
       "      <td>0.000000</td>\n",
       "      <td>1.000000</td>\n",
       "      <td>0.000000</td>\n",
       "      <td>0.000000</td>\n",
       "      <td>3.931826</td>\n",
       "      <td>6.133398</td>\n",
       "      <td>1.386294</td>\n",
       "      <td>1.386294</td>\n",
       "      <td>6.230481</td>\n",
       "      <td>0.000000</td>\n",
       "      <td>0.000000</td>\n",
       "      <td>0.000000</td>\n",
       "      <td>0.000000</td>\n",
       "    </tr>\n",
       "    <tr>\n",
       "      <th>25%</th>\n",
       "      <td>56.000000</td>\n",
       "      <td>2.000000</td>\n",
       "      <td>1.000000</td>\n",
       "      <td>1.000000</td>\n",
       "      <td>3.000000</td>\n",
       "      <td>1.000000</td>\n",
       "      <td>0.000000</td>\n",
       "      <td>6.111467</td>\n",
       "      <td>7.333676</td>\n",
       "      <td>4.211931</td>\n",
       "      <td>3.091042</td>\n",
       "      <td>7.633854</td>\n",
       "      <td>0.000000</td>\n",
       "      <td>0.000000</td>\n",
       "      <td>0.000000</td>\n",
       "      <td>0.000000</td>\n",
       "    </tr>\n",
       "    <tr>\n",
       "      <th>50%</th>\n",
       "      <td>90.000000</td>\n",
       "      <td>2.000000</td>\n",
       "      <td>2.000000</td>\n",
       "      <td>1.000000</td>\n",
       "      <td>6.583283</td>\n",
       "      <td>1.000000</td>\n",
       "      <td>0.000000</td>\n",
       "      <td>6.685861</td>\n",
       "      <td>7.882692</td>\n",
       "      <td>5.003946</td>\n",
       "      <td>3.610918</td>\n",
       "      <td>8.183397</td>\n",
       "      <td>0.000000</td>\n",
       "      <td>0.000000</td>\n",
       "      <td>0.000000</td>\n",
       "      <td>1.000000</td>\n",
       "    </tr>\n",
       "    <tr>\n",
       "      <th>75%</th>\n",
       "      <td>180.000000</td>\n",
       "      <td>3.000000</td>\n",
       "      <td>3.000000</td>\n",
       "      <td>2.000000</td>\n",
       "      <td>8.000000</td>\n",
       "      <td>1.000000</td>\n",
       "      <td>0.000000</td>\n",
       "      <td>7.344073</td>\n",
       "      <td>8.517393</td>\n",
       "      <td>5.993961</td>\n",
       "      <td>4.234107</td>\n",
       "      <td>8.818038</td>\n",
       "      <td>0.000000</td>\n",
       "      <td>0.000000</td>\n",
       "      <td>0.000000</td>\n",
       "      <td>1.000000</td>\n",
       "    </tr>\n",
       "    <tr>\n",
       "      <th>max</th>\n",
       "      <td>46335.000000</td>\n",
       "      <td>13.000000</td>\n",
       "      <td>10.000000</td>\n",
       "      <td>10.000000</td>\n",
       "      <td>51.000000</td>\n",
       "      <td>1.000000</td>\n",
       "      <td>1.000000</td>\n",
       "      <td>9.210440</td>\n",
       "      <td>10.308986</td>\n",
       "      <td>8.685754</td>\n",
       "      <td>6.113682</td>\n",
       "      <td>10.360311</td>\n",
       "      <td>1.000000</td>\n",
       "      <td>1.000000</td>\n",
       "      <td>1.000000</td>\n",
       "      <td>1.000000</td>\n",
       "    </tr>\n",
       "  </tbody>\n",
       "</table>\n",
       "</div>"
      ],
      "text/plain": [
       "               area         rooms      bathroom  parking spaces         floor  \\\n",
       "count  10597.000000  10597.000000  10597.000000    10597.000000  10597.000000   \n",
       "mean     146.265736      2.505804      2.234028        1.605737      6.559549   \n",
       "std      483.589448      1.168629      1.402137        1.579251      4.601180   \n",
       "min       11.000000      1.000000      1.000000        0.000000      1.000000   \n",
       "25%       56.000000      2.000000      1.000000        1.000000      3.000000   \n",
       "50%       90.000000      2.000000      2.000000        1.000000      6.583283   \n",
       "75%      180.000000      3.000000      3.000000        2.000000      8.000000   \n",
       "max    46335.000000     13.000000     10.000000       10.000000     51.000000   \n",
       "\n",
       "             animal     furniture      hoa (R$)  rent amount (R$)  \\\n",
       "count  10597.000000  10597.000000  10597.000000      10597.000000   \n",
       "mean       0.777767      0.244503      6.713875          7.948556   \n",
       "std        0.415766      0.429813      0.846858          0.788485   \n",
       "min        0.000000      0.000000      3.931826          6.133398   \n",
       "25%        1.000000      0.000000      6.111467          7.333676   \n",
       "50%        1.000000      0.000000      6.685861          7.882692   \n",
       "75%        1.000000      0.000000      7.344073          8.517393   \n",
       "max        1.000000      1.000000      9.210440         10.308986   \n",
       "\n",
       "       property tax (R$)  fire insurance (R$)    total (R$)      Campinas  \\\n",
       "count       10597.000000         10597.000000  10597.000000  10597.000000   \n",
       "mean            5.083434             3.680838      8.240326      0.080211   \n",
       "std             1.261190             0.774547      0.788295      0.271633   \n",
       "min             1.386294             1.386294      6.230481      0.000000   \n",
       "25%             4.211931             3.091042      7.633854      0.000000   \n",
       "50%             5.003946             3.610918      8.183397      0.000000   \n",
       "75%             5.993961             4.234107      8.818038      0.000000   \n",
       "max             8.685754             6.113682     10.360311      1.000000   \n",
       "\n",
       "       Porto Alegre  Rio de Janeiro     São Paulo  \n",
       "count  10597.000000    10597.000000  10597.000000  \n",
       "mean       0.111635        0.140417      0.550344  \n",
       "std        0.314932        0.347436      0.497482  \n",
       "min        0.000000        0.000000      0.000000  \n",
       "25%        0.000000        0.000000      0.000000  \n",
       "50%        0.000000        0.000000      1.000000  \n",
       "75%        0.000000        0.000000      1.000000  \n",
       "max        1.000000        1.000000      1.000000  "
      ]
     },
     "execution_count": 4,
     "metadata": {},
     "output_type": "execute_result"
    }
   ],
   "source": [
    "pro.data.describe()"
   ]
  },
  {
   "cell_type": "code",
   "execution_count": 5,
   "metadata": {},
   "outputs": [
    {
     "data": {
      "text/html": [
       "<div>\n",
       "<style scoped>\n",
       "    .dataframe tbody tr th:only-of-type {\n",
       "        vertical-align: middle;\n",
       "    }\n",
       "\n",
       "    .dataframe tbody tr th {\n",
       "        vertical-align: top;\n",
       "    }\n",
       "\n",
       "    .dataframe thead th {\n",
       "        text-align: right;\n",
       "    }\n",
       "</style>\n",
       "<table border=\"1\" class=\"dataframe\">\n",
       "  <thead>\n",
       "    <tr style=\"text-align: right;\">\n",
       "      <th></th>\n",
       "      <th>city</th>\n",
       "      <th>area</th>\n",
       "      <th>rooms</th>\n",
       "      <th>bathroom</th>\n",
       "      <th>parking spaces</th>\n",
       "      <th>floor</th>\n",
       "      <th>animal</th>\n",
       "      <th>furniture</th>\n",
       "      <th>hoa (R$)</th>\n",
       "      <th>rent amount (R$)</th>\n",
       "      <th>property tax (R$)</th>\n",
       "      <th>fire insurance (R$)</th>\n",
       "      <th>total (R$)</th>\n",
       "      <th>Campinas</th>\n",
       "      <th>Porto Alegre</th>\n",
       "      <th>Rio de Janeiro</th>\n",
       "      <th>São Paulo</th>\n",
       "    </tr>\n",
       "  </thead>\n",
       "  <tbody>\n",
       "    <tr>\n",
       "      <th>0</th>\n",
       "      <td>São Paulo</td>\n",
       "      <td>70</td>\n",
       "      <td>2</td>\n",
       "      <td>1</td>\n",
       "      <td>1</td>\n",
       "      <td>7.000000</td>\n",
       "      <td>1</td>\n",
       "      <td>1</td>\n",
       "      <td>7.633370</td>\n",
       "      <td>8.101981</td>\n",
       "      <td>5.356586</td>\n",
       "      <td>3.761200</td>\n",
       "      <td>8.633909</td>\n",
       "      <td>0</td>\n",
       "      <td>0</td>\n",
       "      <td>0</td>\n",
       "      <td>1</td>\n",
       "    </tr>\n",
       "    <tr>\n",
       "      <th>1</th>\n",
       "      <td>São Paulo</td>\n",
       "      <td>320</td>\n",
       "      <td>4</td>\n",
       "      <td>4</td>\n",
       "      <td>0</td>\n",
       "      <td>20.000000</td>\n",
       "      <td>1</td>\n",
       "      <td>0</td>\n",
       "      <td>7.090910</td>\n",
       "      <td>8.509363</td>\n",
       "      <td>7.467942</td>\n",
       "      <td>4.158883</td>\n",
       "      <td>8.983942</td>\n",
       "      <td>0</td>\n",
       "      <td>0</td>\n",
       "      <td>0</td>\n",
       "      <td>1</td>\n",
       "    </tr>\n",
       "    <tr>\n",
       "      <th>2</th>\n",
       "      <td>Porto Alegre</td>\n",
       "      <td>80</td>\n",
       "      <td>1</td>\n",
       "      <td>1</td>\n",
       "      <td>1</td>\n",
       "      <td>6.000000</td>\n",
       "      <td>1</td>\n",
       "      <td>0</td>\n",
       "      <td>6.908755</td>\n",
       "      <td>7.937732</td>\n",
       "      <td>5.229442</td>\n",
       "      <td>3.737670</td>\n",
       "      <td>8.253748</td>\n",
       "      <td>0</td>\n",
       "      <td>1</td>\n",
       "      <td>0</td>\n",
       "      <td>0</td>\n",
       "    </tr>\n",
       "    <tr>\n",
       "      <th>3</th>\n",
       "      <td>Porto Alegre</td>\n",
       "      <td>51</td>\n",
       "      <td>2</td>\n",
       "      <td>1</td>\n",
       "      <td>0</td>\n",
       "      <td>2.000000</td>\n",
       "      <td>1</td>\n",
       "      <td>0</td>\n",
       "      <td>5.602119</td>\n",
       "      <td>7.014814</td>\n",
       "      <td>3.135494</td>\n",
       "      <td>2.890372</td>\n",
       "      <td>7.259820</td>\n",
       "      <td>0</td>\n",
       "      <td>1</td>\n",
       "      <td>0</td>\n",
       "      <td>0</td>\n",
       "    </tr>\n",
       "    <tr>\n",
       "      <th>4</th>\n",
       "      <td>São Paulo</td>\n",
       "      <td>25</td>\n",
       "      <td>1</td>\n",
       "      <td>1</td>\n",
       "      <td>0</td>\n",
       "      <td>1.000000</td>\n",
       "      <td>0</td>\n",
       "      <td>0</td>\n",
       "      <td>5.540085</td>\n",
       "      <td>6.685861</td>\n",
       "      <td>3.258097</td>\n",
       "      <td>2.484907</td>\n",
       "      <td>6.729824</td>\n",
       "      <td>0</td>\n",
       "      <td>0</td>\n",
       "      <td>0</td>\n",
       "      <td>1</td>\n",
       "    </tr>\n",
       "    <tr>\n",
       "      <th>5</th>\n",
       "      <td>São Paulo</td>\n",
       "      <td>376</td>\n",
       "      <td>3</td>\n",
       "      <td>3</td>\n",
       "      <td>7</td>\n",
       "      <td>6.583283</td>\n",
       "      <td>1</td>\n",
       "      <td>0</td>\n",
       "      <td>7.604999</td>\n",
       "      <td>8.987322</td>\n",
       "      <td>6.727432</td>\n",
       "      <td>4.804021</td>\n",
       "      <td>9.100079</td>\n",
       "      <td>0</td>\n",
       "      <td>0</td>\n",
       "      <td>0</td>\n",
       "      <td>1</td>\n",
       "    </tr>\n",
       "    <tr>\n",
       "      <th>6</th>\n",
       "      <td>Rio de Janeiro</td>\n",
       "      <td>72</td>\n",
       "      <td>2</td>\n",
       "      <td>1</td>\n",
       "      <td>0</td>\n",
       "      <td>7.000000</td>\n",
       "      <td>1</td>\n",
       "      <td>0</td>\n",
       "      <td>6.608001</td>\n",
       "      <td>7.550135</td>\n",
       "      <td>4.454347</td>\n",
       "      <td>3.258097</td>\n",
       "      <td>7.919720</td>\n",
       "      <td>0</td>\n",
       "      <td>0</td>\n",
       "      <td>1</td>\n",
       "      <td>0</td>\n",
       "    </tr>\n",
       "    <tr>\n",
       "      <th>7</th>\n",
       "      <td>São Paulo</td>\n",
       "      <td>213</td>\n",
       "      <td>4</td>\n",
       "      <td>4</td>\n",
       "      <td>4</td>\n",
       "      <td>4.000000</td>\n",
       "      <td>1</td>\n",
       "      <td>0</td>\n",
       "      <td>7.720905</td>\n",
       "      <td>8.078378</td>\n",
       "      <td>7.459339</td>\n",
       "      <td>3.737670</td>\n",
       "      <td>8.889308</td>\n",
       "      <td>0</td>\n",
       "      <td>0</td>\n",
       "      <td>0</td>\n",
       "      <td>1</td>\n",
       "    </tr>\n",
       "    <tr>\n",
       "      <th>8</th>\n",
       "      <td>São Paulo</td>\n",
       "      <td>152</td>\n",
       "      <td>2</td>\n",
       "      <td>2</td>\n",
       "      <td>1</td>\n",
       "      <td>3.000000</td>\n",
       "      <td>1</td>\n",
       "      <td>1</td>\n",
       "      <td>6.908755</td>\n",
       "      <td>9.615872</td>\n",
       "      <td>5.525453</td>\n",
       "      <td>5.257495</td>\n",
       "      <td>9.707533</td>\n",
       "      <td>0</td>\n",
       "      <td>0</td>\n",
       "      <td>0</td>\n",
       "      <td>1</td>\n",
       "    </tr>\n",
       "    <tr>\n",
       "      <th>9</th>\n",
       "      <td>Rio de Janeiro</td>\n",
       "      <td>35</td>\n",
       "      <td>1</td>\n",
       "      <td>1</td>\n",
       "      <td>0</td>\n",
       "      <td>2.000000</td>\n",
       "      <td>1</td>\n",
       "      <td>1</td>\n",
       "      <td>6.381816</td>\n",
       "      <td>7.741099</td>\n",
       "      <td>3.583519</td>\n",
       "      <td>3.433987</td>\n",
       "      <td>7.991592</td>\n",
       "      <td>0</td>\n",
       "      <td>0</td>\n",
       "      <td>1</td>\n",
       "      <td>0</td>\n",
       "    </tr>\n",
       "  </tbody>\n",
       "</table>\n",
       "</div>"
      ],
      "text/plain": [
       "             city  area  rooms  bathroom  parking spaces      floor  animal  \\\n",
       "0       São Paulo    70      2         1               1   7.000000       1   \n",
       "1       São Paulo   320      4         4               0  20.000000       1   \n",
       "2    Porto Alegre    80      1         1               1   6.000000       1   \n",
       "3    Porto Alegre    51      2         1               0   2.000000       1   \n",
       "4       São Paulo    25      1         1               0   1.000000       0   \n",
       "5       São Paulo   376      3         3               7   6.583283       1   \n",
       "6  Rio de Janeiro    72      2         1               0   7.000000       1   \n",
       "7       São Paulo   213      4         4               4   4.000000       1   \n",
       "8       São Paulo   152      2         2               1   3.000000       1   \n",
       "9  Rio de Janeiro    35      1         1               0   2.000000       1   \n",
       "\n",
       "   furniture  hoa (R$)  rent amount (R$)  property tax (R$)  \\\n",
       "0          1  7.633370          8.101981           5.356586   \n",
       "1          0  7.090910          8.509363           7.467942   \n",
       "2          0  6.908755          7.937732           5.229442   \n",
       "3          0  5.602119          7.014814           3.135494   \n",
       "4          0  5.540085          6.685861           3.258097   \n",
       "5          0  7.604999          8.987322           6.727432   \n",
       "6          0  6.608001          7.550135           4.454347   \n",
       "7          0  7.720905          8.078378           7.459339   \n",
       "8          1  6.908755          9.615872           5.525453   \n",
       "9          1  6.381816          7.741099           3.583519   \n",
       "\n",
       "   fire insurance (R$)  total (R$)  Campinas  Porto Alegre  Rio de Janeiro  \\\n",
       "0             3.761200    8.633909         0             0               0   \n",
       "1             4.158883    8.983942         0             0               0   \n",
       "2             3.737670    8.253748         0             1               0   \n",
       "3             2.890372    7.259820         0             1               0   \n",
       "4             2.484907    6.729824         0             0               0   \n",
       "5             4.804021    9.100079         0             0               0   \n",
       "6             3.258097    7.919720         0             0               1   \n",
       "7             3.737670    8.889308         0             0               0   \n",
       "8             5.257495    9.707533         0             0               0   \n",
       "9             3.433987    7.991592         0             0               1   \n",
       "\n",
       "   São Paulo  \n",
       "0          1  \n",
       "1          1  \n",
       "2          0  \n",
       "3          0  \n",
       "4          1  \n",
       "5          1  \n",
       "6          0  \n",
       "7          1  \n",
       "8          1  \n",
       "9          0  "
      ]
     },
     "execution_count": 5,
     "metadata": {},
     "output_type": "execute_result"
    }
   ],
   "source": [
    "pro.data[:10]"
   ]
  },
  {
   "cell_type": "markdown",
   "metadata": {},
   "source": [
    "### EDA"
   ]
  },
  {
   "cell_type": "code",
   "execution_count": 6,
   "metadata": {},
   "outputs": [
    {
     "data": {
      "text/html": [
       "<div>\n",
       "<style scoped>\n",
       "    .dataframe tbody tr th:only-of-type {\n",
       "        vertical-align: middle;\n",
       "    }\n",
       "\n",
       "    .dataframe tbody tr th {\n",
       "        vertical-align: top;\n",
       "    }\n",
       "\n",
       "    .dataframe thead th {\n",
       "        text-align: right;\n",
       "    }\n",
       "</style>\n",
       "<table border=\"1\" class=\"dataframe\">\n",
       "  <thead>\n",
       "    <tr style=\"text-align: right;\">\n",
       "      <th></th>\n",
       "      <th>city</th>\n",
       "      <th>area</th>\n",
       "      <th>rooms</th>\n",
       "      <th>bathroom</th>\n",
       "      <th>parking spaces</th>\n",
       "      <th>floor</th>\n",
       "      <th>animal</th>\n",
       "      <th>furniture</th>\n",
       "      <th>hoa (R$)</th>\n",
       "      <th>rent amount (R$)</th>\n",
       "      <th>property tax (R$)</th>\n",
       "      <th>fire insurance (R$)</th>\n",
       "      <th>total (R$)</th>\n",
       "    </tr>\n",
       "  </thead>\n",
       "  <tbody>\n",
       "    <tr>\n",
       "      <th>0</th>\n",
       "      <td>São Paulo</td>\n",
       "      <td>70</td>\n",
       "      <td>2</td>\n",
       "      <td>1</td>\n",
       "      <td>1</td>\n",
       "      <td>7</td>\n",
       "      <td>acept</td>\n",
       "      <td>furnished</td>\n",
       "      <td>2065</td>\n",
       "      <td>3300</td>\n",
       "      <td>211</td>\n",
       "      <td>42</td>\n",
       "      <td>5618</td>\n",
       "    </tr>\n",
       "    <tr>\n",
       "      <th>1</th>\n",
       "      <td>São Paulo</td>\n",
       "      <td>320</td>\n",
       "      <td>4</td>\n",
       "      <td>4</td>\n",
       "      <td>0</td>\n",
       "      <td>20</td>\n",
       "      <td>acept</td>\n",
       "      <td>not furnished</td>\n",
       "      <td>1200</td>\n",
       "      <td>4960</td>\n",
       "      <td>1750</td>\n",
       "      <td>63</td>\n",
       "      <td>7973</td>\n",
       "    </tr>\n",
       "    <tr>\n",
       "      <th>2</th>\n",
       "      <td>Porto Alegre</td>\n",
       "      <td>80</td>\n",
       "      <td>1</td>\n",
       "      <td>1</td>\n",
       "      <td>1</td>\n",
       "      <td>6</td>\n",
       "      <td>acept</td>\n",
       "      <td>not furnished</td>\n",
       "      <td>1000</td>\n",
       "      <td>2800</td>\n",
       "      <td>0</td>\n",
       "      <td>41</td>\n",
       "      <td>3841</td>\n",
       "    </tr>\n",
       "    <tr>\n",
       "      <th>3</th>\n",
       "      <td>Porto Alegre</td>\n",
       "      <td>51</td>\n",
       "      <td>2</td>\n",
       "      <td>1</td>\n",
       "      <td>0</td>\n",
       "      <td>2</td>\n",
       "      <td>acept</td>\n",
       "      <td>not furnished</td>\n",
       "      <td>270</td>\n",
       "      <td>1112</td>\n",
       "      <td>22</td>\n",
       "      <td>17</td>\n",
       "      <td>1421</td>\n",
       "    </tr>\n",
       "    <tr>\n",
       "      <th>4</th>\n",
       "      <td>São Paulo</td>\n",
       "      <td>25</td>\n",
       "      <td>1</td>\n",
       "      <td>1</td>\n",
       "      <td>0</td>\n",
       "      <td>1</td>\n",
       "      <td>not acept</td>\n",
       "      <td>not furnished</td>\n",
       "      <td>0</td>\n",
       "      <td>800</td>\n",
       "      <td>25</td>\n",
       "      <td>11</td>\n",
       "      <td>836</td>\n",
       "    </tr>\n",
       "    <tr>\n",
       "      <th>5</th>\n",
       "      <td>São Paulo</td>\n",
       "      <td>376</td>\n",
       "      <td>3</td>\n",
       "      <td>3</td>\n",
       "      <td>7</td>\n",
       "      <td>-</td>\n",
       "      <td>acept</td>\n",
       "      <td>not furnished</td>\n",
       "      <td>0</td>\n",
       "      <td>8000</td>\n",
       "      <td>834</td>\n",
       "      <td>121</td>\n",
       "      <td>8955</td>\n",
       "    </tr>\n",
       "    <tr>\n",
       "      <th>6</th>\n",
       "      <td>Rio de Janeiro</td>\n",
       "      <td>72</td>\n",
       "      <td>2</td>\n",
       "      <td>1</td>\n",
       "      <td>0</td>\n",
       "      <td>7</td>\n",
       "      <td>acept</td>\n",
       "      <td>not furnished</td>\n",
       "      <td>740</td>\n",
       "      <td>1900</td>\n",
       "      <td>85</td>\n",
       "      <td>25</td>\n",
       "      <td>2750</td>\n",
       "    </tr>\n",
       "    <tr>\n",
       "      <th>7</th>\n",
       "      <td>São Paulo</td>\n",
       "      <td>213</td>\n",
       "      <td>4</td>\n",
       "      <td>4</td>\n",
       "      <td>4</td>\n",
       "      <td>4</td>\n",
       "      <td>acept</td>\n",
       "      <td>not furnished</td>\n",
       "      <td>2254</td>\n",
       "      <td>3223</td>\n",
       "      <td>1735</td>\n",
       "      <td>41</td>\n",
       "      <td>7253</td>\n",
       "    </tr>\n",
       "    <tr>\n",
       "      <th>8</th>\n",
       "      <td>São Paulo</td>\n",
       "      <td>152</td>\n",
       "      <td>2</td>\n",
       "      <td>2</td>\n",
       "      <td>1</td>\n",
       "      <td>3</td>\n",
       "      <td>acept</td>\n",
       "      <td>furnished</td>\n",
       "      <td>1000</td>\n",
       "      <td>15000</td>\n",
       "      <td>250</td>\n",
       "      <td>191</td>\n",
       "      <td>16440</td>\n",
       "    </tr>\n",
       "    <tr>\n",
       "      <th>9</th>\n",
       "      <td>Rio de Janeiro</td>\n",
       "      <td>35</td>\n",
       "      <td>1</td>\n",
       "      <td>1</td>\n",
       "      <td>0</td>\n",
       "      <td>2</td>\n",
       "      <td>acept</td>\n",
       "      <td>furnished</td>\n",
       "      <td>590</td>\n",
       "      <td>2300</td>\n",
       "      <td>35</td>\n",
       "      <td>30</td>\n",
       "      <td>2955</td>\n",
       "    </tr>\n",
       "  </tbody>\n",
       "</table>\n",
       "</div>"
      ],
      "text/plain": [
       "             city  area  rooms  bathroom  parking spaces floor     animal  \\\n",
       "0       São Paulo    70      2         1               1     7      acept   \n",
       "1       São Paulo   320      4         4               0    20      acept   \n",
       "2    Porto Alegre    80      1         1               1     6      acept   \n",
       "3    Porto Alegre    51      2         1               0     2      acept   \n",
       "4       São Paulo    25      1         1               0     1  not acept   \n",
       "5       São Paulo   376      3         3               7     -      acept   \n",
       "6  Rio de Janeiro    72      2         1               0     7      acept   \n",
       "7       São Paulo   213      4         4               4     4      acept   \n",
       "8       São Paulo   152      2         2               1     3      acept   \n",
       "9  Rio de Janeiro    35      1         1               0     2      acept   \n",
       "\n",
       "       furniture  hoa (R$)  rent amount (R$)  property tax (R$)  \\\n",
       "0      furnished      2065              3300                211   \n",
       "1  not furnished      1200              4960               1750   \n",
       "2  not furnished      1000              2800                  0   \n",
       "3  not furnished       270              1112                 22   \n",
       "4  not furnished         0               800                 25   \n",
       "5  not furnished         0              8000                834   \n",
       "6  not furnished       740              1900                 85   \n",
       "7  not furnished      2254              3223               1735   \n",
       "8      furnished      1000             15000                250   \n",
       "9      furnished       590              2300                 35   \n",
       "\n",
       "   fire insurance (R$)  total (R$)  \n",
       "0                   42        5618  \n",
       "1                   63        7973  \n",
       "2                   41        3841  \n",
       "3                   17        1421  \n",
       "4                   11         836  \n",
       "5                  121        8955  \n",
       "6                   25        2750  \n",
       "7                   41        7253  \n",
       "8                  191       16440  \n",
       "9                   30        2955  "
      ]
     },
     "execution_count": 6,
     "metadata": {},
     "output_type": "execute_result"
    }
   ],
   "source": [
    "df_ori[:10]"
   ]
  },
  {
   "cell_type": "markdown",
   "metadata": {},
   "source": [
    "The coloumn floor has \"-\" as value that should be treated as missing value and replace it with mean.  \n",
    "Deal with categorical data like city, animal, furniture."
   ]
  },
  {
   "cell_type": "code",
   "execution_count": 7,
   "metadata": {},
   "outputs": [
    {
     "data": {
      "text/html": [
       "<div>\n",
       "<style scoped>\n",
       "    .dataframe tbody tr th:only-of-type {\n",
       "        vertical-align: middle;\n",
       "    }\n",
       "\n",
       "    .dataframe tbody tr th {\n",
       "        vertical-align: top;\n",
       "    }\n",
       "\n",
       "    .dataframe thead th {\n",
       "        text-align: right;\n",
       "    }\n",
       "</style>\n",
       "<table border=\"1\" class=\"dataframe\">\n",
       "  <thead>\n",
       "    <tr style=\"text-align: right;\">\n",
       "      <th></th>\n",
       "      <th>area</th>\n",
       "      <th>rooms</th>\n",
       "      <th>bathroom</th>\n",
       "      <th>parking spaces</th>\n",
       "      <th>hoa (R$)</th>\n",
       "      <th>rent amount (R$)</th>\n",
       "      <th>property tax (R$)</th>\n",
       "      <th>fire insurance (R$)</th>\n",
       "      <th>total (R$)</th>\n",
       "    </tr>\n",
       "  </thead>\n",
       "  <tbody>\n",
       "    <tr>\n",
       "      <th>count</th>\n",
       "      <td>10692.000000</td>\n",
       "      <td>10692.000000</td>\n",
       "      <td>10692.000000</td>\n",
       "      <td>10692.000000</td>\n",
       "      <td>1.069200e+04</td>\n",
       "      <td>10692.000000</td>\n",
       "      <td>10692.000000</td>\n",
       "      <td>10692.000000</td>\n",
       "      <td>1.069200e+04</td>\n",
       "    </tr>\n",
       "    <tr>\n",
       "      <th>mean</th>\n",
       "      <td>149.217920</td>\n",
       "      <td>2.506079</td>\n",
       "      <td>2.236813</td>\n",
       "      <td>1.609147</td>\n",
       "      <td>1.174022e+03</td>\n",
       "      <td>3896.247194</td>\n",
       "      <td>366.704358</td>\n",
       "      <td>53.300879</td>\n",
       "      <td>5.490487e+03</td>\n",
       "    </tr>\n",
       "    <tr>\n",
       "      <th>std</th>\n",
       "      <td>537.016942</td>\n",
       "      <td>1.171266</td>\n",
       "      <td>1.407198</td>\n",
       "      <td>1.589521</td>\n",
       "      <td>1.559231e+04</td>\n",
       "      <td>3408.545518</td>\n",
       "      <td>3107.832321</td>\n",
       "      <td>47.768031</td>\n",
       "      <td>1.648473e+04</td>\n",
       "    </tr>\n",
       "    <tr>\n",
       "      <th>min</th>\n",
       "      <td>11.000000</td>\n",
       "      <td>1.000000</td>\n",
       "      <td>1.000000</td>\n",
       "      <td>0.000000</td>\n",
       "      <td>0.000000e+00</td>\n",
       "      <td>450.000000</td>\n",
       "      <td>0.000000</td>\n",
       "      <td>3.000000</td>\n",
       "      <td>4.990000e+02</td>\n",
       "    </tr>\n",
       "    <tr>\n",
       "      <th>25%</th>\n",
       "      <td>56.000000</td>\n",
       "      <td>2.000000</td>\n",
       "      <td>1.000000</td>\n",
       "      <td>0.000000</td>\n",
       "      <td>1.700000e+02</td>\n",
       "      <td>1530.000000</td>\n",
       "      <td>38.000000</td>\n",
       "      <td>21.000000</td>\n",
       "      <td>2.061750e+03</td>\n",
       "    </tr>\n",
       "    <tr>\n",
       "      <th>50%</th>\n",
       "      <td>90.000000</td>\n",
       "      <td>2.000000</td>\n",
       "      <td>2.000000</td>\n",
       "      <td>1.000000</td>\n",
       "      <td>5.600000e+02</td>\n",
       "      <td>2661.000000</td>\n",
       "      <td>125.000000</td>\n",
       "      <td>36.000000</td>\n",
       "      <td>3.581500e+03</td>\n",
       "    </tr>\n",
       "    <tr>\n",
       "      <th>75%</th>\n",
       "      <td>182.000000</td>\n",
       "      <td>3.000000</td>\n",
       "      <td>3.000000</td>\n",
       "      <td>2.000000</td>\n",
       "      <td>1.237500e+03</td>\n",
       "      <td>5000.000000</td>\n",
       "      <td>375.000000</td>\n",
       "      <td>68.000000</td>\n",
       "      <td>6.768000e+03</td>\n",
       "    </tr>\n",
       "    <tr>\n",
       "      <th>max</th>\n",
       "      <td>46335.000000</td>\n",
       "      <td>13.000000</td>\n",
       "      <td>10.000000</td>\n",
       "      <td>12.000000</td>\n",
       "      <td>1.117000e+06</td>\n",
       "      <td>45000.000000</td>\n",
       "      <td>313700.000000</td>\n",
       "      <td>677.000000</td>\n",
       "      <td>1.120000e+06</td>\n",
       "    </tr>\n",
       "  </tbody>\n",
       "</table>\n",
       "</div>"
      ],
      "text/plain": [
       "               area         rooms      bathroom  parking spaces      hoa (R$)  \\\n",
       "count  10692.000000  10692.000000  10692.000000    10692.000000  1.069200e+04   \n",
       "mean     149.217920      2.506079      2.236813        1.609147  1.174022e+03   \n",
       "std      537.016942      1.171266      1.407198        1.589521  1.559231e+04   \n",
       "min       11.000000      1.000000      1.000000        0.000000  0.000000e+00   \n",
       "25%       56.000000      2.000000      1.000000        0.000000  1.700000e+02   \n",
       "50%       90.000000      2.000000      2.000000        1.000000  5.600000e+02   \n",
       "75%      182.000000      3.000000      3.000000        2.000000  1.237500e+03   \n",
       "max    46335.000000     13.000000     10.000000       12.000000  1.117000e+06   \n",
       "\n",
       "       rent amount (R$)  property tax (R$)  fire insurance (R$)    total (R$)  \n",
       "count      10692.000000       10692.000000         10692.000000  1.069200e+04  \n",
       "mean        3896.247194         366.704358            53.300879  5.490487e+03  \n",
       "std         3408.545518        3107.832321            47.768031  1.648473e+04  \n",
       "min          450.000000           0.000000             3.000000  4.990000e+02  \n",
       "25%         1530.000000          38.000000            21.000000  2.061750e+03  \n",
       "50%         2661.000000         125.000000            36.000000  3.581500e+03  \n",
       "75%         5000.000000         375.000000            68.000000  6.768000e+03  \n",
       "max        45000.000000      313700.000000           677.000000  1.120000e+06  "
      ]
     },
     "execution_count": 7,
     "metadata": {},
     "output_type": "execute_result"
    }
   ],
   "source": [
    "df_ori.describe()"
   ]
  },
  {
   "cell_type": "code",
   "execution_count": 16,
   "metadata": {},
   "outputs": [
    {
     "name": "stdout",
     "output_type": "stream",
     "text": [
      "The percentage of missing hoa (R$) is 0.22194163860830526\n",
      "The percentage of missing rent amount (R$) is 0.0\n",
      "The percentage of missing property tax (R$) is 0.14927048260381592\n",
      "The percentage of missing fire insurance (R$) is 0.0\n",
      "The percentage of missing total (R$) is 0.0\n"
     ]
    }
   ],
   "source": [
    "cheak_zero = [\"hoa (R$)\", \"rent amount (R$)\", \"property tax (R$)\", \"fire insurance (R$)\", \"total (R$)\"]\n",
    "for attr in cheak_zero:\n",
    "    missing_percent = df_ori[df_ori[attr] == 0][attr].count()/df_ori[attr].count()\n",
    "    print(f\"The percentage of missing {attr} is\", missing_percent)"
   ]
  },
  {
   "cell_type": "code",
   "execution_count": 8,
   "metadata": {},
   "outputs": [
    {
     "data": {
      "text/plain": [
       "<matplotlib.axes._subplots.AxesSubplot at 0x128beb850>"
      ]
     },
     "execution_count": 8,
     "metadata": {},
     "output_type": "execute_result"
    },
    {
     "data": {
      "image/png": "[encoded data removed]",
      "text/plain": [
       "<Figure size 1152x864 with 1 Axes>"
      ]
     },
     "metadata": {
      "needs_background": "light"
     },
     "output_type": "display_data"
    }
   ],
   "source": [
    "plt.figure(figsize=(16,12))\n",
    "df_ori[[\"hoa (R$)\", \"rent amount (R$)\", \"property tax (R$)\", \"fire insurance (R$)\", \"total (R$)\"]].boxplot()"
   ]
  },
  {
   "cell_type": "markdown",
   "metadata": {},
   "source": [
    "There is some outliers in hoa, property tax and total far from the ordinary one, so we are just going to drop it.  \n",
    "We are going  to drop the rows(greater than 200000)"
   ]
  },
  {
   "cell_type": "code",
   "execution_count": 9,
   "metadata": {},
   "outputs": [
    {
     "data": {
      "text/plain": [
       "<matplotlib.axes._subplots.AxesSubplot at 0x12976ca90>"
      ]
     },
     "execution_count": 9,
     "metadata": {},
     "output_type": "execute_result"
    },
    {
     "data": {
      "image/png": "[encoded data removed]",
      "text/plain": [
       "<Figure size 1152x864 with 5 Axes>"
      ]
     },
     "metadata": {
      "needs_background": "light"
     },
     "output_type": "display_data"
    }
   ],
   "source": [
    "plt.figure(figsize=(16,12))\n",
    "\n",
    "ax1 = plt.subplot(321)\n",
    "ax2 = plt.subplot(322)\n",
    "ax3 = plt.subplot(323)\n",
    "ax4 = plt.subplot(324)\n",
    "ax5 = plt.subplot(313)\n",
    "\n",
    "sns.distplot(df_ori[\"hoa (R$)\"], ax=ax1)\n",
    "sns.distplot(df_ori[\"rent amount (R$)\"], ax=ax2)\n",
    "sns.distplot(df_ori[\"property tax (R$)\"], ax=ax3)\n",
    "sns.distplot(df_ori[\"fire insurance (R$)\"], ax=ax4)\n",
    "sns.distplot(df_ori[\"total (R$)\"], ax=ax5)"
   ]
  },
  {
   "cell_type": "markdown",
   "metadata": {},
   "source": [
    "We also try to use log transformation to make the the distribution more Gaussian."
   ]
  },
  {
   "cell_type": "markdown",
   "metadata": {},
   "source": [
    "### Clean the data"
   ]
  },
  {
   "cell_type": "code",
   "execution_count": 11,
   "metadata": {},
   "outputs": [],
   "source": [
    "pro = pf(df_ori)\n",
    "pro.clean()"
   ]
  },
  {
   "cell_type": "code",
   "execution_count": 12,
   "metadata": {},
   "outputs": [
    {
     "data": {
      "text/html": [
       "<div>\n",
       "<style scoped>\n",
       "    .dataframe tbody tr th:only-of-type {\n",
       "        vertical-align: middle;\n",
       "    }\n",
       "\n",
       "    .dataframe tbody tr th {\n",
       "        vertical-align: top;\n",
       "    }\n",
       "\n",
       "    .dataframe thead th {\n",
       "        text-align: right;\n",
       "    }\n",
       "</style>\n",
       "<table border=\"1\" class=\"dataframe\">\n",
       "  <thead>\n",
       "    <tr style=\"text-align: right;\">\n",
       "      <th></th>\n",
       "      <th>area</th>\n",
       "      <th>rooms</th>\n",
       "      <th>bathroom</th>\n",
       "      <th>parking spaces</th>\n",
       "      <th>floor</th>\n",
       "      <th>animal</th>\n",
       "      <th>furniture</th>\n",
       "      <th>hoa (R$)</th>\n",
       "      <th>rent amount (R$)</th>\n",
       "      <th>property tax (R$)</th>\n",
       "      <th>fire insurance (R$)</th>\n",
       "      <th>total (R$)</th>\n",
       "      <th>Campinas</th>\n",
       "      <th>Porto Alegre</th>\n",
       "      <th>Rio de Janeiro</th>\n",
       "      <th>São Paulo</th>\n",
       "    </tr>\n",
       "  </thead>\n",
       "  <tbody>\n",
       "    <tr>\n",
       "      <th>count</th>\n",
       "      <td>10597.000000</td>\n",
       "      <td>10597.000000</td>\n",
       "      <td>10597.000000</td>\n",
       "      <td>10597.000000</td>\n",
       "      <td>10597.000000</td>\n",
       "      <td>10597.000000</td>\n",
       "      <td>10597.000000</td>\n",
       "      <td>10597.000000</td>\n",
       "      <td>10597.000000</td>\n",
       "      <td>10597.000000</td>\n",
       "      <td>10597.000000</td>\n",
       "      <td>10597.000000</td>\n",
       "      <td>10597.000000</td>\n",
       "      <td>10597.000000</td>\n",
       "      <td>10597.000000</td>\n",
       "      <td>10597.000000</td>\n",
       "    </tr>\n",
       "    <tr>\n",
       "      <th>mean</th>\n",
       "      <td>146.265736</td>\n",
       "      <td>2.505804</td>\n",
       "      <td>2.234028</td>\n",
       "      <td>1.605737</td>\n",
       "      <td>6.559549</td>\n",
       "      <td>0.777767</td>\n",
       "      <td>0.244503</td>\n",
       "      <td>6.713875</td>\n",
       "      <td>7.948556</td>\n",
       "      <td>5.083434</td>\n",
       "      <td>3.680838</td>\n",
       "      <td>8.240326</td>\n",
       "      <td>0.080211</td>\n",
       "      <td>0.111635</td>\n",
       "      <td>0.140417</td>\n",
       "      <td>0.550344</td>\n",
       "    </tr>\n",
       "    <tr>\n",
       "      <th>std</th>\n",
       "      <td>483.589448</td>\n",
       "      <td>1.168629</td>\n",
       "      <td>1.402137</td>\n",
       "      <td>1.579251</td>\n",
       "      <td>4.601180</td>\n",
       "      <td>0.415766</td>\n",
       "      <td>0.429813</td>\n",
       "      <td>0.846858</td>\n",
       "      <td>0.788485</td>\n",
       "      <td>1.261190</td>\n",
       "      <td>0.774547</td>\n",
       "      <td>0.788295</td>\n",
       "      <td>0.271633</td>\n",
       "      <td>0.314932</td>\n",
       "      <td>0.347436</td>\n",
       "      <td>0.497482</td>\n",
       "    </tr>\n",
       "    <tr>\n",
       "      <th>min</th>\n",
       "      <td>11.000000</td>\n",
       "      <td>1.000000</td>\n",
       "      <td>1.000000</td>\n",
       "      <td>0.000000</td>\n",
       "      <td>1.000000</td>\n",
       "      <td>0.000000</td>\n",
       "      <td>0.000000</td>\n",
       "      <td>3.931826</td>\n",
       "      <td>6.133398</td>\n",
       "      <td>1.386294</td>\n",
       "      <td>1.386294</td>\n",
       "      <td>6.230481</td>\n",
       "      <td>0.000000</td>\n",
       "      <td>0.000000</td>\n",
       "      <td>0.000000</td>\n",
       "      <td>0.000000</td>\n",
       "    </tr>\n",
       "    <tr>\n",
       "      <th>25%</th>\n",
       "      <td>56.000000</td>\n",
       "      <td>2.000000</td>\n",
       "      <td>1.000000</td>\n",
       "      <td>1.000000</td>\n",
       "      <td>3.000000</td>\n",
       "      <td>1.000000</td>\n",
       "      <td>0.000000</td>\n",
       "      <td>6.111467</td>\n",
       "      <td>7.333676</td>\n",
       "      <td>4.211931</td>\n",
       "      <td>3.091042</td>\n",
       "      <td>7.633854</td>\n",
       "      <td>0.000000</td>\n",
       "      <td>0.000000</td>\n",
       "      <td>0.000000</td>\n",
       "      <td>0.000000</td>\n",
       "    </tr>\n",
       "    <tr>\n",
       "      <th>50%</th>\n",
       "      <td>90.000000</td>\n",
       "      <td>2.000000</td>\n",
       "      <td>2.000000</td>\n",
       "      <td>1.000000</td>\n",
       "      <td>6.583283</td>\n",
       "      <td>1.000000</td>\n",
       "      <td>0.000000</td>\n",
       "      <td>6.685861</td>\n",
       "      <td>7.882692</td>\n",
       "      <td>5.003946</td>\n",
       "      <td>3.610918</td>\n",
       "      <td>8.183397</td>\n",
       "      <td>0.000000</td>\n",
       "      <td>0.000000</td>\n",
       "      <td>0.000000</td>\n",
       "      <td>1.000000</td>\n",
       "    </tr>\n",
       "    <tr>\n",
       "      <th>75%</th>\n",
       "      <td>180.000000</td>\n",
       "      <td>3.000000</td>\n",
       "      <td>3.000000</td>\n",
       "      <td>2.000000</td>\n",
       "      <td>8.000000</td>\n",
       "      <td>1.000000</td>\n",
       "      <td>0.000000</td>\n",
       "      <td>7.344073</td>\n",
       "      <td>8.517393</td>\n",
       "      <td>5.993961</td>\n",
       "      <td>4.234107</td>\n",
       "      <td>8.818038</td>\n",
       "      <td>0.000000</td>\n",
       "      <td>0.000000</td>\n",
       "      <td>0.000000</td>\n",
       "      <td>1.000000</td>\n",
       "    </tr>\n",
       "    <tr>\n",
       "      <th>max</th>\n",
       "      <td>46335.000000</td>\n",
       "      <td>13.000000</td>\n",
       "      <td>10.000000</td>\n",
       "      <td>10.000000</td>\n",
       "      <td>51.000000</td>\n",
       "      <td>1.000000</td>\n",
       "      <td>1.000000</td>\n",
       "      <td>9.210440</td>\n",
       "      <td>10.308986</td>\n",
       "      <td>8.685754</td>\n",
       "      <td>6.113682</td>\n",
       "      <td>10.360311</td>\n",
       "      <td>1.000000</td>\n",
       "      <td>1.000000</td>\n",
       "      <td>1.000000</td>\n",
       "      <td>1.000000</td>\n",
       "    </tr>\n",
       "  </tbody>\n",
       "</table>\n",
       "</div>"
      ],
      "text/plain": [
       "               area         rooms      bathroom  parking spaces         floor  \\\n",
       "count  10597.000000  10597.000000  10597.000000    10597.000000  10597.000000   \n",
       "mean     146.265736      2.505804      2.234028        1.605737      6.559549   \n",
       "std      483.589448      1.168629      1.402137        1.579251      4.601180   \n",
       "min       11.000000      1.000000      1.000000        0.000000      1.000000   \n",
       "25%       56.000000      2.000000      1.000000        1.000000      3.000000   \n",
       "50%       90.000000      2.000000      2.000000        1.000000      6.583283   \n",
       "75%      180.000000      3.000000      3.000000        2.000000      8.000000   \n",
       "max    46335.000000     13.000000     10.000000       10.000000     51.000000   \n",
       "\n",
       "             animal     furniture      hoa (R$)  rent amount (R$)  \\\n",
       "count  10597.000000  10597.000000  10597.000000      10597.000000   \n",
       "mean       0.777767      0.244503      6.713875          7.948556   \n",
       "std        0.415766      0.429813      0.846858          0.788485   \n",
       "min        0.000000      0.000000      3.931826          6.133398   \n",
       "25%        1.000000      0.000000      6.111467          7.333676   \n",
       "50%        1.000000      0.000000      6.685861          7.882692   \n",
       "75%        1.000000      0.000000      7.344073          8.517393   \n",
       "max        1.000000      1.000000      9.210440         10.308986   \n",
       "\n",
       "       property tax (R$)  fire insurance (R$)    total (R$)      Campinas  \\\n",
       "count       10597.000000         10597.000000  10597.000000  10597.000000   \n",
       "mean            5.083434             3.680838      8.240326      0.080211   \n",
       "std             1.261190             0.774547      0.788295      0.271633   \n",
       "min             1.386294             1.386294      6.230481      0.000000   \n",
       "25%             4.211931             3.091042      7.633854      0.000000   \n",
       "50%             5.003946             3.610918      8.183397      0.000000   \n",
       "75%             5.993961             4.234107      8.818038      0.000000   \n",
       "max             8.685754             6.113682     10.360311      1.000000   \n",
       "\n",
       "       Porto Alegre  Rio de Janeiro     São Paulo  \n",
       "count  10597.000000    10597.000000  10597.000000  \n",
       "mean       0.111635        0.140417      0.550344  \n",
       "std        0.314932        0.347436      0.497482  \n",
       "min        0.000000        0.000000      0.000000  \n",
       "25%        0.000000        0.000000      0.000000  \n",
       "50%        0.000000        0.000000      1.000000  \n",
       "75%        0.000000        0.000000      1.000000  \n",
       "max        1.000000        1.000000      1.000000  "
      ]
     },
     "execution_count": 12,
     "metadata": {},
     "output_type": "execute_result"
    }
   ],
   "source": [
    "pro.data.describe()"
   ]
  },
  {
   "cell_type": "code",
   "execution_count": 13,
   "metadata": {},
   "outputs": [
    {
     "data": {
      "text/html": [
       "<div>\n",
       "<style scoped>\n",
       "    .dataframe tbody tr th:only-of-type {\n",
       "        vertical-align: middle;\n",
       "    }\n",
       "\n",
       "    .dataframe tbody tr th {\n",
       "        vertical-align: top;\n",
       "    }\n",
       "\n",
       "    .dataframe thead th {\n",
       "        text-align: right;\n",
       "    }\n",
       "</style>\n",
       "<table border=\"1\" class=\"dataframe\">\n",
       "  <thead>\n",
       "    <tr style=\"text-align: right;\">\n",
       "      <th></th>\n",
       "      <th>city</th>\n",
       "      <th>area</th>\n",
       "      <th>rooms</th>\n",
       "      <th>bathroom</th>\n",
       "      <th>parking spaces</th>\n",
       "      <th>floor</th>\n",
       "      <th>animal</th>\n",
       "      <th>furniture</th>\n",
       "      <th>hoa (R$)</th>\n",
       "      <th>rent amount (R$)</th>\n",
       "      <th>property tax (R$)</th>\n",
       "      <th>fire insurance (R$)</th>\n",
       "      <th>total (R$)</th>\n",
       "      <th>Campinas</th>\n",
       "      <th>Porto Alegre</th>\n",
       "      <th>Rio de Janeiro</th>\n",
       "      <th>São Paulo</th>\n",
       "    </tr>\n",
       "  </thead>\n",
       "  <tbody>\n",
       "    <tr>\n",
       "      <th>0</th>\n",
       "      <td>São Paulo</td>\n",
       "      <td>70</td>\n",
       "      <td>2</td>\n",
       "      <td>1</td>\n",
       "      <td>1</td>\n",
       "      <td>7.000000</td>\n",
       "      <td>1</td>\n",
       "      <td>1</td>\n",
       "      <td>7.633370</td>\n",
       "      <td>8.101981</td>\n",
       "      <td>5.356586</td>\n",
       "      <td>3.761200</td>\n",
       "      <td>8.633909</td>\n",
       "      <td>0</td>\n",
       "      <td>0</td>\n",
       "      <td>0</td>\n",
       "      <td>1</td>\n",
       "    </tr>\n",
       "    <tr>\n",
       "      <th>1</th>\n",
       "      <td>São Paulo</td>\n",
       "      <td>320</td>\n",
       "      <td>4</td>\n",
       "      <td>4</td>\n",
       "      <td>0</td>\n",
       "      <td>20.000000</td>\n",
       "      <td>1</td>\n",
       "      <td>0</td>\n",
       "      <td>7.090910</td>\n",
       "      <td>8.509363</td>\n",
       "      <td>7.467942</td>\n",
       "      <td>4.158883</td>\n",
       "      <td>8.983942</td>\n",
       "      <td>0</td>\n",
       "      <td>0</td>\n",
       "      <td>0</td>\n",
       "      <td>1</td>\n",
       "    </tr>\n",
       "    <tr>\n",
       "      <th>2</th>\n",
       "      <td>Porto Alegre</td>\n",
       "      <td>80</td>\n",
       "      <td>1</td>\n",
       "      <td>1</td>\n",
       "      <td>1</td>\n",
       "      <td>6.000000</td>\n",
       "      <td>1</td>\n",
       "      <td>0</td>\n",
       "      <td>6.908755</td>\n",
       "      <td>7.937732</td>\n",
       "      <td>5.229442</td>\n",
       "      <td>3.737670</td>\n",
       "      <td>8.253748</td>\n",
       "      <td>0</td>\n",
       "      <td>1</td>\n",
       "      <td>0</td>\n",
       "      <td>0</td>\n",
       "    </tr>\n",
       "    <tr>\n",
       "      <th>3</th>\n",
       "      <td>Porto Alegre</td>\n",
       "      <td>51</td>\n",
       "      <td>2</td>\n",
       "      <td>1</td>\n",
       "      <td>0</td>\n",
       "      <td>2.000000</td>\n",
       "      <td>1</td>\n",
       "      <td>0</td>\n",
       "      <td>5.602119</td>\n",
       "      <td>7.014814</td>\n",
       "      <td>3.135494</td>\n",
       "      <td>2.890372</td>\n",
       "      <td>7.259820</td>\n",
       "      <td>0</td>\n",
       "      <td>1</td>\n",
       "      <td>0</td>\n",
       "      <td>0</td>\n",
       "    </tr>\n",
       "    <tr>\n",
       "      <th>4</th>\n",
       "      <td>São Paulo</td>\n",
       "      <td>25</td>\n",
       "      <td>1</td>\n",
       "      <td>1</td>\n",
       "      <td>0</td>\n",
       "      <td>1.000000</td>\n",
       "      <td>0</td>\n",
       "      <td>0</td>\n",
       "      <td>5.540085</td>\n",
       "      <td>6.685861</td>\n",
       "      <td>3.258097</td>\n",
       "      <td>2.484907</td>\n",
       "      <td>6.729824</td>\n",
       "      <td>0</td>\n",
       "      <td>0</td>\n",
       "      <td>0</td>\n",
       "      <td>1</td>\n",
       "    </tr>\n",
       "    <tr>\n",
       "      <th>5</th>\n",
       "      <td>São Paulo</td>\n",
       "      <td>376</td>\n",
       "      <td>3</td>\n",
       "      <td>3</td>\n",
       "      <td>7</td>\n",
       "      <td>6.583283</td>\n",
       "      <td>1</td>\n",
       "      <td>0</td>\n",
       "      <td>7.604999</td>\n",
       "      <td>8.987322</td>\n",
       "      <td>6.727432</td>\n",
       "      <td>4.804021</td>\n",
       "      <td>9.100079</td>\n",
       "      <td>0</td>\n",
       "      <td>0</td>\n",
       "      <td>0</td>\n",
       "      <td>1</td>\n",
       "    </tr>\n",
       "    <tr>\n",
       "      <th>6</th>\n",
       "      <td>Rio de Janeiro</td>\n",
       "      <td>72</td>\n",
       "      <td>2</td>\n",
       "      <td>1</td>\n",
       "      <td>0</td>\n",
       "      <td>7.000000</td>\n",
       "      <td>1</td>\n",
       "      <td>0</td>\n",
       "      <td>6.608001</td>\n",
       "      <td>7.550135</td>\n",
       "      <td>4.454347</td>\n",
       "      <td>3.258097</td>\n",
       "      <td>7.919720</td>\n",
       "      <td>0</td>\n",
       "      <td>0</td>\n",
       "      <td>1</td>\n",
       "      <td>0</td>\n",
       "    </tr>\n",
       "    <tr>\n",
       "      <th>7</th>\n",
       "      <td>São Paulo</td>\n",
       "      <td>213</td>\n",
       "      <td>4</td>\n",
       "      <td>4</td>\n",
       "      <td>4</td>\n",
       "      <td>4.000000</td>\n",
       "      <td>1</td>\n",
       "      <td>0</td>\n",
       "      <td>7.720905</td>\n",
       "      <td>8.078378</td>\n",
       "      <td>7.459339</td>\n",
       "      <td>3.737670</td>\n",
       "      <td>8.889308</td>\n",
       "      <td>0</td>\n",
       "      <td>0</td>\n",
       "      <td>0</td>\n",
       "      <td>1</td>\n",
       "    </tr>\n",
       "    <tr>\n",
       "      <th>8</th>\n",
       "      <td>São Paulo</td>\n",
       "      <td>152</td>\n",
       "      <td>2</td>\n",
       "      <td>2</td>\n",
       "      <td>1</td>\n",
       "      <td>3.000000</td>\n",
       "      <td>1</td>\n",
       "      <td>1</td>\n",
       "      <td>6.908755</td>\n",
       "      <td>9.615872</td>\n",
       "      <td>5.525453</td>\n",
       "      <td>5.257495</td>\n",
       "      <td>9.707533</td>\n",
       "      <td>0</td>\n",
       "      <td>0</td>\n",
       "      <td>0</td>\n",
       "      <td>1</td>\n",
       "    </tr>\n",
       "    <tr>\n",
       "      <th>9</th>\n",
       "      <td>Rio de Janeiro</td>\n",
       "      <td>35</td>\n",
       "      <td>1</td>\n",
       "      <td>1</td>\n",
       "      <td>0</td>\n",
       "      <td>2.000000</td>\n",
       "      <td>1</td>\n",
       "      <td>1</td>\n",
       "      <td>6.381816</td>\n",
       "      <td>7.741099</td>\n",
       "      <td>3.583519</td>\n",
       "      <td>3.433987</td>\n",
       "      <td>7.991592</td>\n",
       "      <td>0</td>\n",
       "      <td>0</td>\n",
       "      <td>1</td>\n",
       "      <td>0</td>\n",
       "    </tr>\n",
       "  </tbody>\n",
       "</table>\n",
       "</div>"
      ],
      "text/plain": [
       "             city  area  rooms  bathroom  parking spaces      floor  animal  \\\n",
       "0       São Paulo    70      2         1               1   7.000000       1   \n",
       "1       São Paulo   320      4         4               0  20.000000       1   \n",
       "2    Porto Alegre    80      1         1               1   6.000000       1   \n",
       "3    Porto Alegre    51      2         1               0   2.000000       1   \n",
       "4       São Paulo    25      1         1               0   1.000000       0   \n",
       "5       São Paulo   376      3         3               7   6.583283       1   \n",
       "6  Rio de Janeiro    72      2         1               0   7.000000       1   \n",
       "7       São Paulo   213      4         4               4   4.000000       1   \n",
       "8       São Paulo   152      2         2               1   3.000000       1   \n",
       "9  Rio de Janeiro    35      1         1               0   2.000000       1   \n",
       "\n",
       "   furniture  hoa (R$)  rent amount (R$)  property tax (R$)  \\\n",
       "0          1  7.633370          8.101981           5.356586   \n",
       "1          0  7.090910          8.509363           7.467942   \n",
       "2          0  6.908755          7.937732           5.229442   \n",
       "3          0  5.602119          7.014814           3.135494   \n",
       "4          0  5.540085          6.685861           3.258097   \n",
       "5          0  7.604999          8.987322           6.727432   \n",
       "6          0  6.608001          7.550135           4.454347   \n",
       "7          0  7.720905          8.078378           7.459339   \n",
       "8          1  6.908755          9.615872           5.525453   \n",
       "9          1  6.381816          7.741099           3.583519   \n",
       "\n",
       "   fire insurance (R$)  total (R$)  Campinas  Porto Alegre  Rio de Janeiro  \\\n",
       "0             3.761200    8.633909         0             0               0   \n",
       "1             4.158883    8.983942         0             0               0   \n",
       "2             3.737670    8.253748         0             1               0   \n",
       "3             2.890372    7.259820         0             1               0   \n",
       "4             2.484907    6.729824         0             0               0   \n",
       "5             4.804021    9.100079         0             0               0   \n",
       "6             3.258097    7.919720         0             0               1   \n",
       "7             3.737670    8.889308         0             0               0   \n",
       "8             5.257495    9.707533         0             0               0   \n",
       "9             3.433987    7.991592         0             0               1   \n",
       "\n",
       "   São Paulo  \n",
       "0          1  \n",
       "1          1  \n",
       "2          0  \n",
       "3          0  \n",
       "4          1  \n",
       "5          1  \n",
       "6          0  \n",
       "7          1  \n",
       "8          1  \n",
       "9          0  "
      ]
     },
     "execution_count": 13,
     "metadata": {},
     "output_type": "execute_result"
    }
   ],
   "source": [
    "pro.data[:10]"
   ]
  },
  {
   "cell_type": "code",
   "execution_count": 13,
   "metadata": {},
   "outputs": [
    {
     "data": {
      "text/plain": [
       "<matplotlib.axes._subplots.AxesSubplot at 0x12c687e80>"
      ]
     },
     "execution_count": 13,
     "metadata": {},
     "output_type": "execute_result"
    },
    {
     "data": {
      "image/png": "[encoded data removed]",
      "text/plain": [
       "<Figure size 1152x864 with 5 Axes>"
      ]
     },
     "metadata": {
      "needs_background": "light"
     },
     "output_type": "display_data"
    }
   ],
   "source": [
    "plt.figure(figsize=(16,12))\n",
    "\n",
    "ax1 = plt.subplot(321)\n",
    "ax2 = plt.subplot(322)\n",
    "ax3 = plt.subplot(323)\n",
    "ax4 = plt.subplot(324)\n",
    "ax5 = plt.subplot(313)\n",
    "\n",
    "sns.distplot(pro.data[\"hoa (R$)\"], ax=ax1)\n",
    "sns.distplot(pro.data[\"rent amount (R$)\"], ax=ax2)\n",
    "sns.distplot(pro.data[\"property tax (R$)\"], ax=ax3)\n",
    "sns.distplot(pro.data[\"fire insurance (R$)\"], ax=ax4)\n",
    "sns.distplot(pro.data[\"total (R$)\"], ax=ax5)"
   ]
  },
  {
   "cell_type": "code",
   "execution_count": 310,
   "metadata": {},
   "outputs": [
    {
     "data": {
      "text/plain": [
       "<matplotlib.axes._subplots.AxesSubplot at 0x1a33958780>"
      ]
     },
     "execution_count": 310,
     "metadata": {},
     "output_type": "execute_result"
    },
    {
     "data": {
      "image/png": "[encoded data removed]",
      "text/plain": [
       "<Figure size 432x288 with 1 Axes>"
      ]
     },
     "metadata": {
      "needs_background": "light"
     },
     "output_type": "display_data"
    }
   ],
   "source": [
    "pro.data[[\"hoa (R$)\", \"rent amount (R$)\", \"property tax (R$)\", \"fire insurance (R$)\", \"total (R$)\"]].boxplot()"
   ]
  },
  {
   "cell_type": "code",
   "execution_count": null,
   "metadata": {},
   "outputs": [],
   "source": []
  },
  {
   "cell_type": "code",
   "execution_count": 7,
   "metadata": {},
   "outputs": [
    {
     "data": {
      "text/plain": [
       "<matplotlib.axes._subplots.AxesSubplot at 0x10cda1b50>"
      ]
     },
     "execution_count": 7,
     "metadata": {},
     "output_type": "execute_result"
    },
    {
     "data": {
      "image/png": "[encoded data removed]",
      "text/plain": [
       "<Figure size 1152x648 with 2 Axes>"
      ]
     },
     "metadata": {
      "needs_background": "light"
     },
     "output_type": "display_data"
    }
   ],
   "source": [
    "plt.figure(figsize=(16,9))\n",
    "sns.heatmap(pro.data[[\"area\", \"rooms\", \"bathroom\", \"parking spaces\", \"floor\", \"hoa (R$)\", \"rent amount (R$)\", \"property tax (R$)\",\n",
    "                    \"fire insurance (R$)\", \"total (R$)\"]].corr())"
   ]
  },
  {
   "cell_type": "code",
   "execution_count": null,
   "metadata": {},
   "outputs": [],
   "source": []
  },
  {
   "cell_type": "code",
   "execution_count": null,
   "metadata": {},
   "outputs": [],
   "source": []
  },
  {
   "cell_type": "markdown",
   "metadata": {},
   "source": [
    "### Apply ML"
   ]
  },
  {
   "cell_type": "code",
   "execution_count": 325,
   "metadata": {},
   "outputs": [],
   "source": [
    "from sklearn.model_selection import train_test_split\n",
    "from sklearn.model_selection import cross_validate\n",
    "from sklearn.linear_model import LinearRegression\n",
    "from sklearn.tree import DecisionTreeRegressor"
   ]
  },
  {
   "cell_type": "code",
   "execution_count": 326,
   "metadata": {},
   "outputs": [],
   "source": [
    "clf = LinearRegression()\n",
    "regressor = DecisionTreeRegressor(random_state=0)"
   ]
  },
  {
   "cell_type": "code",
   "execution_count": 327,
   "metadata": {},
   "outputs": [
    {
     "data": {
      "text/plain": [
       "{'fit_time': array([0.00372982, 0.00241995, 0.00260186, 0.00290298, 0.00262904]),\n",
       " 'score_time': array([0.00157309, 0.00111389, 0.00115728, 0.00134087, 0.001261  ]),\n",
       " 'test_score': array([0.97011904, 0.9696717 , 0.97149868, 0.97034022, 0.96724361])}"
      ]
     },
     "execution_count": 327,
     "metadata": {},
     "output_type": "execute_result"
    }
   ],
   "source": [
    "cross_validate(clf, pro.data[[\"area\",\"rooms\",\"bathroom\",\"parking spaces\",\"hoa (R$)\",\"rent amount (R$)\",\"property tax (R$)\",\"fire insurance (R$)\"]], pro.data[\"total (R$)\"])"
   ]
  },
  {
   "cell_type": "code",
   "execution_count": 328,
   "metadata": {},
   "outputs": [
    {
     "data": {
      "text/plain": [
       "{'fit_time': array([0.03995991, 0.04216504, 0.03709316, 0.03974199, 0.0362339 ]),\n",
       " 'score_time': array([0.00159693, 0.00208306, 0.0017271 , 0.00195575, 0.00270796]),\n",
       " 'test_score': array([0.98703643, 0.98629374, 0.98613999, 0.98532747, 0.98753191])}"
      ]
     },
     "execution_count": 328,
     "metadata": {},
     "output_type": "execute_result"
    }
   ],
   "source": [
    "cross_validate(regressor, pro.data[[\"area\",\"rooms\",\"bathroom\",\"parking spaces\",\"hoa (R$)\",\"rent amount (R$)\",\"property tax (R$)\",\"fire insurance (R$)\"]], pro.data[\"total (R$)\"])"
   ]
  },
  {
   "cell_type": "markdown",
   "metadata": {},
   "source": [
    "# PCR"
   ]
  },
  {
   "cell_type": "code",
   "execution_count": 361,
   "metadata": {},
   "outputs": [],
   "source": [
    "from sklearn.decomposition import PCA\n",
    "from sklearn.model_selection import train_test_split\n",
    "from sklearn.linear_model import LinearRegression"
   ]
  },
  {
   "cell_type": "code",
   "execution_count": 362,
   "metadata": {},
   "outputs": [
    {
     "name": "stdout",
     "output_type": "stream",
     "text": [
      "Coefficient\n",
      "7.796707129533836 [0.00018008 0.05193105]\n",
      "MSE: \n",
      "0.5386598169817317\n"
     ]
    }
   ],
   "source": [
    "X_train, X_test, y_train, y_test = train_test_split(pro.data.drop(columns = [\"city\", 'animal', 'furniture','Campinas','Porto Alegre', 'Rio de Janeiro', 'São Paulo', \"total (R$)\"]), pro.data[\"total (R$)\"], test_size=0.5)\n",
    "pcaMod = PCA(2)\n",
    "pcaMod.fit(X_train)\n",
    "g_train = X_train @ pcaMod.components_.T\n",
    "linMod = LinearRegression(fit_intercept=True)\n",
    "linMod.fit(X = g_train, y = y_train)\n",
    "g_test = X_test @ pcaMod.components_.T\n",
    "print(\"Coefficient\")\n",
    "print(linMod.intercept_, linMod.coef_)\n",
    "print(\"MSE: \")\n",
    "print(np.mean(np.square(linMod.predict(g_test) - y_test)))"
   ]
  },
  {
   "cell_type": "code",
   "execution_count": 364,
   "metadata": {},
   "outputs": [
    {
     "data": {
      "text/plain": [
       "46334.99946894152"
      ]
     },
     "execution_count": 364,
     "metadata": {},
     "output_type": "execute_result"
    }
   ],
   "source": [
    "max(g_train[0])"
   ]
  },
  {
   "cell_type": "markdown",
   "metadata": {},
   "source": [
    "# PCA"
   ]
  },
  {
   "cell_type": "markdown",
   "metadata": {},
   "source": [
    "Since there some features are binary values 0 or 1, we will kick them out from the data, then create a new data called X.\n"
   ]
  },
  {
   "cell_type": "code",
   "execution_count": 332,
   "metadata": {},
   "outputs": [],
   "source": [
    "import numpy as np\n",
    "from sklearn.preprocessing import StandardScaler\n",
    "from sklearn.decomposition import  PCA"
   ]
  },
  {
   "cell_type": "code",
   "execution_count": 333,
   "metadata": {},
   "outputs": [
    {
     "data": {
      "text/html": [
       "<div>\n",
       "<style scoped>\n",
       "    .dataframe tbody tr th:only-of-type {\n",
       "        vertical-align: middle;\n",
       "    }\n",
       "\n",
       "    .dataframe tbody tr th {\n",
       "        vertical-align: top;\n",
       "    }\n",
       "\n",
       "    .dataframe thead th {\n",
       "        text-align: right;\n",
       "    }\n",
       "</style>\n",
       "<table border=\"1\" class=\"dataframe\">\n",
       "  <thead>\n",
       "    <tr style=\"text-align: right;\">\n",
       "      <th></th>\n",
       "      <th>area</th>\n",
       "      <th>rooms</th>\n",
       "      <th>bathroom</th>\n",
       "      <th>parking spaces</th>\n",
       "      <th>floor</th>\n",
       "      <th>hoa (R$)</th>\n",
       "      <th>rent amount (R$)</th>\n",
       "      <th>property tax (R$)</th>\n",
       "      <th>fire insurance (R$)</th>\n",
       "    </tr>\n",
       "  </thead>\n",
       "  <tbody>\n",
       "    <tr>\n",
       "      <th>0</th>\n",
       "      <td>70</td>\n",
       "      <td>2</td>\n",
       "      <td>1</td>\n",
       "      <td>1</td>\n",
       "      <td>7.0</td>\n",
       "      <td>7.633370</td>\n",
       "      <td>8.101981</td>\n",
       "      <td>5.356586</td>\n",
       "      <td>3.761200</td>\n",
       "    </tr>\n",
       "    <tr>\n",
       "      <th>1</th>\n",
       "      <td>320</td>\n",
       "      <td>4</td>\n",
       "      <td>4</td>\n",
       "      <td>0</td>\n",
       "      <td>20.0</td>\n",
       "      <td>7.090910</td>\n",
       "      <td>8.509363</td>\n",
       "      <td>7.467942</td>\n",
       "      <td>4.158883</td>\n",
       "    </tr>\n",
       "    <tr>\n",
       "      <th>2</th>\n",
       "      <td>80</td>\n",
       "      <td>1</td>\n",
       "      <td>1</td>\n",
       "      <td>1</td>\n",
       "      <td>6.0</td>\n",
       "      <td>6.908755</td>\n",
       "      <td>7.937732</td>\n",
       "      <td>5.302083</td>\n",
       "      <td>3.737670</td>\n",
       "    </tr>\n",
       "    <tr>\n",
       "      <th>3</th>\n",
       "      <td>51</td>\n",
       "      <td>2</td>\n",
       "      <td>1</td>\n",
       "      <td>0</td>\n",
       "      <td>2.0</td>\n",
       "      <td>5.602119</td>\n",
       "      <td>7.014814</td>\n",
       "      <td>3.135494</td>\n",
       "      <td>2.890372</td>\n",
       "    </tr>\n",
       "    <tr>\n",
       "      <th>4</th>\n",
       "      <td>25</td>\n",
       "      <td>1</td>\n",
       "      <td>1</td>\n",
       "      <td>0</td>\n",
       "      <td>1.0</td>\n",
       "      <td>5.725338</td>\n",
       "      <td>6.685861</td>\n",
       "      <td>3.258097</td>\n",
       "      <td>2.484907</td>\n",
       "    </tr>\n",
       "  </tbody>\n",
       "</table>\n",
       "</div>"
      ],
      "text/plain": [
       "   area  rooms  bathroom  parking spaces  floor  hoa (R$)  rent amount (R$)  \\\n",
       "0    70      2         1               1    7.0  7.633370          8.101981   \n",
       "1   320      4         4               0   20.0  7.090910          8.509363   \n",
       "2    80      1         1               1    6.0  6.908755          7.937732   \n",
       "3    51      2         1               0    2.0  5.602119          7.014814   \n",
       "4    25      1         1               0    1.0  5.725338          6.685861   \n",
       "\n",
       "   property tax (R$)  fire insurance (R$)  \n",
       "0           5.356586             3.761200  \n",
       "1           7.467942             4.158883  \n",
       "2           5.302083             3.737670  \n",
       "3           3.135494             2.890372  \n",
       "4           3.258097             2.484907  "
      ]
     },
     "execution_count": 333,
     "metadata": {},
     "output_type": "execute_result"
    }
   ],
   "source": [
    "X_columns = [\"area\", \"rooms\", \"bathroom\", \"parking spaces\", \"floor\", \"hoa (R$)\", \n",
    "             \"rent amount (R$)\",\"property tax (R$)\",\"fire insurance (R$)\"]\n",
    "X = pro.data.loc[:,X_columns]\n",
    "X.head()"
   ]
  },
  {
   "cell_type": "code",
   "execution_count": 334,
   "metadata": {},
   "outputs": [],
   "source": [
    "#Normalize X for PCA\n",
    "X = StandardScaler().fit_transform(X)\n",
    "pca_model = PCA(n_components=5)\n",
    "pca = pca_model.fit_transform(X)"
   ]
  },
  {
   "cell_type": "code",
   "execution_count": 335,
   "metadata": {},
   "outputs": [
    {
     "data": {
      "text/plain": [
       "array([5.13789843, 1.02766711, 0.92107252, 0.61610269, 0.48918721])"
      ]
     },
     "execution_count": 335,
     "metadata": {},
     "output_type": "execute_result"
    }
   ],
   "source": [
    "pca_model.explained_variance_"
   ]
  },
  {
   "cell_type": "code",
   "execution_count": 336,
   "metadata": {},
   "outputs": [
    {
     "data": {
      "text/plain": [
       "Text(0.5, 0, 'Principal Components')"
      ]
     },
     "execution_count": 336,
     "metadata": {},
     "output_type": "execute_result"
    },
    {
     "data": {
      "image/png": "[encoded data removed]",
      "text/plain": [
       "<Figure size 432x288 with 1 Axes>"
      ]
     },
     "metadata": {
      "needs_background": "light"
     },
     "output_type": "display_data"
    }
   ],
   "source": [
    "plt.bar(range(1, len(pca_model.explained_variance_)+1), pca_model.explained_variance_)\n",
    "plt.ylabel(\"Explained Variance\")\n",
    "plt.xlabel(\"Principal Components\")"
   ]
  },
  {
   "cell_type": "code",
   "execution_count": 337,
   "metadata": {},
   "outputs": [
    {
     "data": {
      "text/plain": [
       "(-10, 5)"
      ]
     },
     "execution_count": 337,
     "metadata": {},
     "output_type": "execute_result"
    },
    {
     "data": {
      "image/png": "[encoded data removed]",
      "text/plain": [
       "<Figure size 432x288 with 1 Axes>"
      ]
     },
     "metadata": {
      "needs_background": "light"
     },
     "output_type": "display_data"
    }
   ],
   "source": [
    "plt.scatter(pca[:,0], pca[:,1])\n",
    "plt.xlabel(\"PC1\")\n",
    "plt.ylabel(\"PC2\")\n",
    "plt.xlim(-6, 9)\n",
    "plt.ylim(-10,5)"
   ]
  },
  {
   "cell_type": "code",
   "execution_count": 338,
   "metadata": {},
   "outputs": [
    {
     "data": {
      "image/png": "[encoded data removed]",
      "text/plain": [
       "<Figure size 432x288 with 2 Axes>"
      ]
     },
     "metadata": {
      "needs_background": "light"
     },
     "output_type": "display_data"
    }
   ],
   "source": [
    "\n",
    "ax = sns.heatmap(pca_model.components_,\n",
    "                 annot=True,\n",
    "                 cmap=\"YlGnBu\",\n",
    "                 yticklabels=[ \"PCA\" + str(x) for x in range(1,pca_model.n_components_+1)],\n",
    "                 xticklabels= X_columns)"
   ]
  },
  {
   "cell_type": "code",
   "execution_count": 339,
   "metadata": {},
   "outputs": [],
   "source": [
    "def myplot(score,coeff,labels=None):\n",
    "    xs = score[:,0]\n",
    "    ys = score[:,1]\n",
    "    n = coeff.shape[0]\n",
    "    scalex = 1.0/(xs.max() - xs.min())\n",
    "    scaley = 1.0/(ys.max() - ys.min())\n",
    "    plt.scatter(xs * scalex,ys * scaley,s=5)\n",
    "    for i in range(n):\n",
    "        plt.arrow(0, 0, coeff[i,0], coeff[i,1],color = 'r',alpha = 0.5)\n",
    "        if labels is None:\n",
    "            plt.text(coeff[i,0]* 1.15, coeff[i,1] * 1.15, \"Var\"+str(i+1), color = 'green', ha = 'center', va = 'center')\n",
    "        else:\n",
    "            plt.text(coeff[i,0]* 1.15, coeff[i,1] * 1.15, labels[i], color = 'g', ha = 'center', va = 'center')\n",
    " \n",
    "    plt.xlabel(\"PC{}\".format(1))\n",
    "    plt.ylabel(\"PC{}\".format(2))\n",
    "   \n",
    "    plt.grid()"
   ]
  },
  {
   "cell_type": "code",
   "execution_count": 340,
   "metadata": {},
   "outputs": [
    {
     "data": {
      "image/png": "[encoded data removed]",
      "text/plain": [
       "<Figure size 432x288 with 1 Axes>"
      ]
     },
     "metadata": {
      "needs_background": "light"
     },
     "output_type": "display_data"
    }
   ],
   "source": [
    "myplot(pca[:,0:2],np.transpose(pca_model.components_[0:2, :]),X_columns)\n",
    "plt.xlim(-0.25,0.6)\n",
    "plt.ylim(-1,0.6)\n",
    "plt.show()"
   ]
  },
  {
   "cell_type": "markdown",
   "metadata": {},
   "source": [
    "# Random Forests"
   ]
  },
  {
   "cell_type": "markdown",
   "metadata": {},
   "source": [
    "We need to remove \"city\" this feature from the dataset, because its values are encoded and merged into the dataset."
   ]
  },
  {
   "cell_type": "code",
   "execution_count": 341,
   "metadata": {},
   "outputs": [
    {
     "data": {
      "text/plain": [
       "Index(['city', 'area', 'rooms', 'bathroom', 'parking spaces', 'floor',\n",
       "       'animal', 'furniture', 'hoa (R$)', 'rent amount (R$)',\n",
       "       'property tax (R$)', 'fire insurance (R$)', 'total (R$)', 'Campinas',\n",
       "       'Porto Alegre', 'Rio de Janeiro', 'São Paulo'],\n",
       "      dtype='object')"
      ]
     },
     "execution_count": 341,
     "metadata": {},
     "output_type": "execute_result"
    }
   ],
   "source": [
    "\n",
    "pro.data.columns"
   ]
  },
  {
   "cell_type": "code",
   "execution_count": 342,
   "metadata": {},
   "outputs": [
    {
     "data": {
      "text/html": [
       "<div>\n",
       "<style scoped>\n",
       "    .dataframe tbody tr th:only-of-type {\n",
       "        vertical-align: middle;\n",
       "    }\n",
       "\n",
       "    .dataframe tbody tr th {\n",
       "        vertical-align: top;\n",
       "    }\n",
       "\n",
       "    .dataframe thead th {\n",
       "        text-align: right;\n",
       "    }\n",
       "</style>\n",
       "<table border=\"1\" class=\"dataframe\">\n",
       "  <thead>\n",
       "    <tr style=\"text-align: right;\">\n",
       "      <th></th>\n",
       "      <th>city</th>\n",
       "      <th>area</th>\n",
       "      <th>rooms</th>\n",
       "      <th>bathroom</th>\n",
       "      <th>parking spaces</th>\n",
       "      <th>floor</th>\n",
       "      <th>animal</th>\n",
       "      <th>furniture</th>\n",
       "      <th>hoa (R$)</th>\n",
       "      <th>rent amount (R$)</th>\n",
       "      <th>property tax (R$)</th>\n",
       "      <th>fire insurance (R$)</th>\n",
       "      <th>total (R$)</th>\n",
       "      <th>Campinas</th>\n",
       "      <th>Porto Alegre</th>\n",
       "      <th>Rio de Janeiro</th>\n",
       "      <th>São Paulo</th>\n",
       "    </tr>\n",
       "  </thead>\n",
       "  <tbody>\n",
       "    <tr>\n",
       "      <th>0</th>\n",
       "      <td>São Paulo</td>\n",
       "      <td>70</td>\n",
       "      <td>2</td>\n",
       "      <td>1</td>\n",
       "      <td>1</td>\n",
       "      <td>7.0</td>\n",
       "      <td>1</td>\n",
       "      <td>1</td>\n",
       "      <td>7.633370</td>\n",
       "      <td>8.101981</td>\n",
       "      <td>5.356586</td>\n",
       "      <td>3.761200</td>\n",
       "      <td>8.633909</td>\n",
       "      <td>0</td>\n",
       "      <td>0</td>\n",
       "      <td>0</td>\n",
       "      <td>1</td>\n",
       "    </tr>\n",
       "    <tr>\n",
       "      <th>1</th>\n",
       "      <td>São Paulo</td>\n",
       "      <td>320</td>\n",
       "      <td>4</td>\n",
       "      <td>4</td>\n",
       "      <td>0</td>\n",
       "      <td>20.0</td>\n",
       "      <td>1</td>\n",
       "      <td>0</td>\n",
       "      <td>7.090910</td>\n",
       "      <td>8.509363</td>\n",
       "      <td>7.467942</td>\n",
       "      <td>4.158883</td>\n",
       "      <td>8.983942</td>\n",
       "      <td>0</td>\n",
       "      <td>0</td>\n",
       "      <td>0</td>\n",
       "      <td>1</td>\n",
       "    </tr>\n",
       "    <tr>\n",
       "      <th>2</th>\n",
       "      <td>Porto Alegre</td>\n",
       "      <td>80</td>\n",
       "      <td>1</td>\n",
       "      <td>1</td>\n",
       "      <td>1</td>\n",
       "      <td>6.0</td>\n",
       "      <td>1</td>\n",
       "      <td>0</td>\n",
       "      <td>6.908755</td>\n",
       "      <td>7.937732</td>\n",
       "      <td>5.302083</td>\n",
       "      <td>3.737670</td>\n",
       "      <td>8.253748</td>\n",
       "      <td>0</td>\n",
       "      <td>1</td>\n",
       "      <td>0</td>\n",
       "      <td>0</td>\n",
       "    </tr>\n",
       "    <tr>\n",
       "      <th>3</th>\n",
       "      <td>Porto Alegre</td>\n",
       "      <td>51</td>\n",
       "      <td>2</td>\n",
       "      <td>1</td>\n",
       "      <td>0</td>\n",
       "      <td>2.0</td>\n",
       "      <td>1</td>\n",
       "      <td>0</td>\n",
       "      <td>5.602119</td>\n",
       "      <td>7.014814</td>\n",
       "      <td>3.135494</td>\n",
       "      <td>2.890372</td>\n",
       "      <td>7.259820</td>\n",
       "      <td>0</td>\n",
       "      <td>1</td>\n",
       "      <td>0</td>\n",
       "      <td>0</td>\n",
       "    </tr>\n",
       "    <tr>\n",
       "      <th>4</th>\n",
       "      <td>São Paulo</td>\n",
       "      <td>25</td>\n",
       "      <td>1</td>\n",
       "      <td>1</td>\n",
       "      <td>0</td>\n",
       "      <td>1.0</td>\n",
       "      <td>0</td>\n",
       "      <td>0</td>\n",
       "      <td>5.725338</td>\n",
       "      <td>6.685861</td>\n",
       "      <td>3.258097</td>\n",
       "      <td>2.484907</td>\n",
       "      <td>6.729824</td>\n",
       "      <td>0</td>\n",
       "      <td>0</td>\n",
       "      <td>0</td>\n",
       "      <td>1</td>\n",
       "    </tr>\n",
       "  </tbody>\n",
       "</table>\n",
       "</div>"
      ],
      "text/plain": [
       "           city  area  rooms  bathroom  parking spaces  floor  animal  \\\n",
       "0     São Paulo    70      2         1               1    7.0       1   \n",
       "1     São Paulo   320      4         4               0   20.0       1   \n",
       "2  Porto Alegre    80      1         1               1    6.0       1   \n",
       "3  Porto Alegre    51      2         1               0    2.0       1   \n",
       "4     São Paulo    25      1         1               0    1.0       0   \n",
       "\n",
       "   furniture  hoa (R$)  rent amount (R$)  property tax (R$)  \\\n",
       "0          1  7.633370          8.101981           5.356586   \n",
       "1          0  7.090910          8.509363           7.467942   \n",
       "2          0  6.908755          7.937732           5.302083   \n",
       "3          0  5.602119          7.014814           3.135494   \n",
       "4          0  5.725338          6.685861           3.258097   \n",
       "\n",
       "   fire insurance (R$)  total (R$)  Campinas  Porto Alegre  Rio de Janeiro  \\\n",
       "0             3.761200    8.633909         0             0               0   \n",
       "1             4.158883    8.983942         0             0               0   \n",
       "2             3.737670    8.253748         0             1               0   \n",
       "3             2.890372    7.259820         0             1               0   \n",
       "4             2.484907    6.729824         0             0               0   \n",
       "\n",
       "   São Paulo  \n",
       "0          1  \n",
       "1          1  \n",
       "2          0  \n",
       "3          0  \n",
       "4          1  "
      ]
     },
     "execution_count": 342,
     "metadata": {},
     "output_type": "execute_result"
    }
   ],
   "source": [
    "pro.data.head()"
   ]
  },
  {
   "cell_type": "code",
   "execution_count": 343,
   "metadata": {},
   "outputs": [],
   "source": [
    "data = pro.data.drop(\"total (R$)\", axis = 1)\n",
    "X = data.iloc[:,1:]\n",
    "y = pro.data[\"total (R$)\"]"
   ]
  },
  {
   "cell_type": "code",
   "execution_count": 344,
   "metadata": {},
   "outputs": [
    {
     "name": "stdout",
     "output_type": "stream",
     "text": [
      "(7923, 15) (7923,)\n",
      "(2642, 15) (2642,)\n"
     ]
    }
   ],
   "source": [
    "X_train, X_test, y_train, y_test = train_test_split(X, y,test_size=0.25, shuffle=True)\n",
    "print(X_train.shape, y_train.shape)\n",
    "print(X_test.shape, y_test.shape)"
   ]
  },
  {
   "cell_type": "code",
   "execution_count": 345,
   "metadata": {},
   "outputs": [],
   "source": [
    "from sklearn.ensemble import RandomForestRegressor\n",
    "rf = RandomForestRegressor(n_estimators = 100, random_state = 552)"
   ]
  },
  {
   "cell_type": "code",
   "execution_count": 346,
   "metadata": {},
   "outputs": [
    {
     "data": {
      "text/plain": [
       "RandomForestRegressor(bootstrap=True, ccp_alpha=0.0, criterion='mse',\n",
       "                      max_depth=None, max_features='auto', max_leaf_nodes=None,\n",
       "                      max_samples=None, min_impurity_decrease=0.0,\n",
       "                      min_impurity_split=None, min_samples_leaf=1,\n",
       "                      min_samples_split=2, min_weight_fraction_leaf=0.0,\n",
       "                      n_estimators=100, n_jobs=None, oob_score=False,\n",
       "                      random_state=552, verbose=0, warm_start=False)"
      ]
     },
     "execution_count": 346,
     "metadata": {},
     "output_type": "execute_result"
    }
   ],
   "source": [
    "rf.fit(X_train, y_train)"
   ]
  },
  {
   "cell_type": "markdown",
   "metadata": {},
   "source": [
    "## Prediction"
   ]
  },
  {
   "cell_type": "code",
   "execution_count": 347,
   "metadata": {},
   "outputs": [],
   "source": [
    "predictions = rf.predict(X_test)"
   ]
  },
  {
   "cell_type": "code",
   "execution_count": 348,
   "metadata": {},
   "outputs": [],
   "source": [
    "from sklearn import metrics"
   ]
  },
  {
   "cell_type": "code",
   "execution_count": 349,
   "metadata": {},
   "outputs": [
    {
     "name": "stdout",
     "output_type": "stream",
     "text": [
      "Mean Squared Error: 0.00383858299544312\n"
     ]
    }
   ],
   "source": [
    "print('Mean Squared Error:', metrics.mean_squared_error(y_test, predictions))"
   ]
  },
  {
   "cell_type": "markdown",
   "metadata": {},
   "source": [
    "## Importances"
   ]
  },
  {
   "cell_type": "code",
   "execution_count": 350,
   "metadata": {},
   "outputs": [],
   "source": [
    "importances = list(rf.feature_importances_)\n",
    "feature_list = X_train.columns\n",
    "feature_importances = [(feature, importance, 2) for feature, importance in zip(feature_list, importances)]"
   ]
  },
  {
   "cell_type": "code",
   "execution_count": 351,
   "metadata": {},
   "outputs": [],
   "source": [
    "feature_importances = sorted(feature_importances, key = lambda x: x[1], reverse = True)"
   ]
  },
  {
   "cell_type": "code",
   "execution_count": 352,
   "metadata": {},
   "outputs": [
    {
     "data": {
      "text/plain": [
       "['Variable: rent amount (R$)     Importance: 0.9284185901316523',\n",
       " 'Variable: hoa (R$)             Importance: 0.056500356901164825',\n",
       " 'Variable: fire insurance (R$)  Importance: 0.005127635095897566',\n",
       " 'Variable: property tax (R$)    Importance: 0.004390415613283282',\n",
       " 'Variable: area                 Importance: 0.001793650185538958',\n",
       " 'Variable: floor                Importance: 0.001250853217924546',\n",
       " 'Variable: São Paulo            Importance: 0.0006849144816617667',\n",
       " 'Variable: parking spaces       Importance: 0.0005221138388407804',\n",
       " 'Variable: Porto Alegre         Importance: 0.0005067042300141458',\n",
       " 'Variable: rooms                Importance: 0.00021828468933062477',\n",
       " 'Variable: bathroom             Importance: 0.00021240943150839834',\n",
       " 'Variable: Rio de Janeiro       Importance: 0.00010647670592397328',\n",
       " 'Variable: Campinas             Importance: 0.00010616797867327187',\n",
       " 'Variable: animal               Importance: 9.36488308287399e-05',\n",
       " 'Variable: furniture            Importance: 6.777866775691002e-05']"
      ]
     },
     "execution_count": 352,
     "metadata": {},
     "output_type": "execute_result"
    }
   ],
   "source": [
    "['Variable: {:20} Importance: {}'.format(*pair) for pair in feature_importances]"
   ]
  },
  {
   "cell_type": "code",
   "execution_count": 353,
   "metadata": {},
   "outputs": [
    {
     "data": {
      "text/plain": [
       "Text(0.5, 1.0, 'Variable Importances')"
      ]
     },
     "execution_count": 353,
     "metadata": {},
     "output_type": "execute_result"
    },
    {
     "data": {
      "image/png": "[encoded data removed]",
      "text/plain": [
       "<Figure size 432x288 with 1 Axes>"
      ]
     },
     "metadata": {
      "needs_background": "light"
     },
     "output_type": "display_data"
    }
   ],
   "source": [
    "x_values = list(range(len(importances)))\n",
    "plt.bar(x_values, importances, orientation = 'vertical')\n",
    "plt.xticks(x_values, feature_list, rotation='vertical')\n",
    "plt.ylabel('Importance')\n",
    "plt.xlabel('Features')\n",
    "plt.title('Variable Importances')"
   ]
  },
  {
   "cell_type": "markdown",
   "metadata": {},
   "source": [
    "## Training RF with most second importances"
   ]
  },
  {
   "cell_type": "code",
   "execution_count": 354,
   "metadata": {},
   "outputs": [
    {
     "data": {
      "text/plain": [
       "RandomForestRegressor(bootstrap=True, ccp_alpha=0.0, criterion='mse',\n",
       "                      max_depth=None, max_features='auto', max_leaf_nodes=None,\n",
       "                      max_samples=None, min_impurity_decrease=0.0,\n",
       "                      min_impurity_split=None, min_samples_leaf=1,\n",
       "                      min_samples_split=2, min_weight_fraction_leaf=0.0,\n",
       "                      n_estimators=100, n_jobs=None, oob_score=False,\n",
       "                      random_state=552, verbose=0, warm_start=False)"
      ]
     },
     "execution_count": 354,
     "metadata": {},
     "output_type": "execute_result"
    }
   ],
   "source": [
    "new_X_train = X_train.loc[:,[\"rent amount (R$)\",\"hoa (R$)\"]]\n",
    "new_X_test = X_test.loc[:,[\"rent amount (R$)\",\"hoa (R$)\"]]\n",
    "rf.fit(new_X_train, y_train)"
   ]
  },
  {
   "cell_type": "code",
   "execution_count": 355,
   "metadata": {},
   "outputs": [],
   "source": [
    "predictions2 = rf.predict(new_X_test)"
   ]
  },
  {
   "cell_type": "code",
   "execution_count": 356,
   "metadata": {},
   "outputs": [
    {
     "name": "stdout",
     "output_type": "stream",
     "text": [
      "Mean Squared Error: 0.010034081507780986\n"
     ]
    }
   ],
   "source": [
    "print('Mean Squared Error:', metrics.mean_squared_error(y_test, predictions2))"
   ]
  },
  {
   "cell_type": "markdown",
   "metadata": {},
   "source": [
    "## Training RF with most importance"
   ]
  },
  {
   "cell_type": "code",
   "execution_count": 358,
   "metadata": {},
   "outputs": [
    {
     "data": {
      "text/plain": [
       "RandomForestRegressor(bootstrap=True, ccp_alpha=0.0, criterion='mse',\n",
       "                      max_depth=None, max_features='auto', max_leaf_nodes=None,\n",
       "                      max_samples=None, min_impurity_decrease=0.0,\n",
       "                      min_impurity_split=None, min_samples_leaf=1,\n",
       "                      min_samples_split=2, min_weight_fraction_leaf=0.0,\n",
       "                      n_estimators=100, n_jobs=None, oob_score=False,\n",
       "                      random_state=552, verbose=0, warm_start=False)"
      ]
     },
     "execution_count": 358,
     "metadata": {},
     "output_type": "execute_result"
    }
   ],
   "source": [
    "new_X_train2 = X_train.loc[:,\"rent amount (R$)\"]\n",
    "new_X_test2 = X_test[[\"rent amount (R$)\"]]\n",
    "new_X_train2 = pd.DataFrame(new_X_train2)\n",
    "rf.fit(new_X_train2, y_train)"
   ]
  },
  {
   "cell_type": "code",
   "execution_count": 359,
   "metadata": {},
   "outputs": [],
   "source": [
    "predictions3 = rf.predict(new_X_test2)"
   ]
  },
  {
   "cell_type": "code",
   "execution_count": 360,
   "metadata": {},
   "outputs": [
    {
     "name": "stdout",
     "output_type": "stream",
     "text": [
      "Mean Squared Error: 0.03996860267813108\n"
     ]
    }
   ],
   "source": [
    "print('Mean Squared Error:', metrics.mean_squared_error(y_test, predictions3))"
   ]
  },
  {
   "cell_type": "markdown",
   "metadata": {},
   "source": [
    "# PCR"
   ]
  },
  {
   "cell_type": "code",
   "execution_count": 8,
   "metadata": {},
   "outputs": [],
   "source": [
    "from sklearn.decomposition import PCA\n",
    "from sklearn.model_selection import train_test_split\n",
    "from sklearn.linear_model import LinearRegression"
   ]
  },
  {
   "cell_type": "code",
   "execution_count": 9,
   "metadata": {},
   "outputs": [
    {
     "name": "stdout",
     "output_type": "stream",
     "text": [
      "Coefficient\n",
      "3.643813044072208 [ 0.00371143  0.03475685 -0.27516019 -0.26670427 -0.13876931]\n",
      "MSE\n",
      "0.07166563250118595\n",
      "Variance: \n",
      "0.07157001200540278\n",
      "variance on test set\n",
      "0.62132699957648\n",
      "R^2\n",
      "0.8848110382227271\n"
     ]
    },
    {
     "data": {
      "text/plain": [
       "<matplotlib.axes._subplots.AxesSubplot at 0x1359e1b50>"
      ]
     },
     "execution_count": 9,
     "metadata": {},
     "output_type": "execute_result"
    },
    {
     "data": {
      "image/png": "[encoded data removed]",
      "text/plain": [
       "<Figure size 432x288 with 1 Axes>"
      ]
     },
     "metadata": {
      "needs_background": "light"
     },
     "output_type": "display_data"
    }
   ],
   "source": [
    "X_train, X_test, y_train, y_test = train_test_split(pro.data.drop(columns = [\"city\",  'animal', 'furniture','Campinas','Porto Alegre', 'Rio de Janeiro', 'São Paulo',\"total (R$)\"]), pro.data[\"total (R$)\"], test_size=0.75)\n",
    "pcaMod = PCA(5)\n",
    "pcaMod.fit(X_train)\n",
    "g_train = X_train @ pcaMod.components_.T\n",
    "linMod = LinearRegression(fit_intercept = True)\n",
    "linMod.fit(X = g_train, y = y_train)\n",
    "g_test = X_test @ pcaMod.components_.T\n",
    "print(\"Coefficient\")\n",
    "print(linMod.intercept_, linMod.coef_)\n",
    "print(\"MSE\")\n",
    "print(np.mean(np.square(linMod.predict(g_test) - y_test)))\n",
    "print(\"Variance: \")\n",
    "print(np.var(linMod.predict(g_test) - y_test))\n",
    "print(\"variance on test set\")\n",
    "print(np.var(y_test))\n",
    "print(\"R^2\")\n",
    "print(1- np.var(linMod.predict(g_test) - y_test) / np.var(y_test))\n",
    "sns.distplot(linMod.predict(g_test) - y_test)"
   ]
  },
  {
   "cell_type": "code",
   "execution_count": 6,
   "metadata": {},
   "outputs": [],
   "source": [
    "from PCR import pcr"
   ]
  },
  {
   "cell_type": "code",
   "execution_count": 7,
   "metadata": {},
   "outputs": [
    {
     "data": {
      "text/plain": [
       "<matplotlib.axes._subplots.AxesSubplot at 0x1a27f1f898>"
      ]
     },
     "execution_count": 7,
     "metadata": {},
     "output_type": "execute_result"
    },
    {
     "data": {
      "image/png": "[encoded data removed]",
      "text/plain": [
       "<Figure size 432x288 with 1 Axes>"
      ]
     },
     "metadata": {
      "needs_background": "light"
     },
     "output_type": "display_data"
    }
   ],
   "source": [
    "p = pcr(X_test.to_numpy())\n",
    "sns.distplot(p.predict() - y_test)"
   ]
  }
 ],
 "metadata": {
  "kernelspec": {
   "display_name": "Python 3",
   "language": "python",
   "name": "python3"
  },
  "language_info": {
   "codemirror_mode": {
    "name": "ipython",
    "version": 3
   },
   "file_extension": ".py",
   "mimetype": "text/x-python",
   "name": "python",
   "nbconvert_exporter": "python",
   "pygments_lexer": "ipython3",
   "version": "3.8.1"
  }
 },
 "nbformat": 4,
 "nbformat_minor": 4
}
